{
 "cells": [
  {
   "cell_type": "code",
   "execution_count": 3,
   "id": "fbd3ad04",
   "metadata": {},
   "outputs": [
    {
     "name": "stdout",
     "output_type": "stream",
     "text": [
      "['n02085620-치와와', 'n02085782-재패니즈 스파니엘', 'n02085936-말티즈', 'n02086079-페키니즈', 'n02086120-비숑프리제', 'n02086240-시츄', 'n02086646-킹찰스 스파니엘', 'n02086910-빠삐용', 'n02087046-토이테리어', 'n02087394-로디지안 리지백', 'n02088094-아프간하운드', 'n02088238-바셋하운드', 'n02088364-비글', 'n02088466-블러드하운드', 'n02089973-잉글리시 폭스하운드', 'n02090622-보르조이', 'n02090721-아이리시 울프하운드', 'n02091032-이탈리안 그레이하운드', 'n02091134-휘핏', 'n02091467-노르웨이언 엘크하운드', 'n02092339-와이머라너', 'n02093256-스태퍼드셔 불테리어', 'n02093428-아메리칸 스태퍼드셔 테리어', 'n02093647-베들링턴 테리어', 'n02093754-보더 테리어', 'n02093859-케리 블루 테리어', 'n02093991-아이리시 테리어', 'n02094114-노퍽 테리어', 'n02094258-노리치 테리어', 'n02094433-요크셔 테리어', 'n02095314-폭스 테리어', 'n02095570-레이클랜드 테리어', 'n02095889-실리엄 테리어', 'n02096294-오스트레일리안 테리어', 'n02096585-보스턴 테리어', 'n02097047-미니어처 슈나우저', 'n02097209-스탠다드 슈나우저', 'n02097298-스코티시 테리어', 'n02097474-티베탄 테리어', 'n02097658-실키 테리어', 'n02098105-소프트코티드 휘튼 테리어', 'n02098286-웨스트 하일랜드 화이트 테리어', 'n02098413-라사압소', 'n02099267-플랫 코티드 리트리버', 'n02099429-컬리 코티드 리트리버', 'n02099601-골든 리트리버', 'n02099712-래브라도 리트리버', 'n02099849-채서피크 베이 리트리버', 'n02100236-저먼 쇼트헤어드 포인터', 'n02100583-비즐라', 'n02100735-잉글리시 세터', 'n02100877-아이리시 세터', 'n02101388-브리타니 스파니엘', 'n02102040-잉글리시 스프링어 스파니엘', 'n02102177-웰시 스프링어 스파니엘', 'n02102318-코커 스파니엘', 'n02102480-서섹스 스파니엘', 'n02102973-아이리시 워터 스파니엘', 'n02104029-쿠바츠', 'n02105056-그로넨달', 'n02105162-마리노이즈', 'n02105641-올드 잉글리시 쉽독', 'n02105855-셔틀랜드 쉽독', 'n02106030-콜리', 'n02106166-보더콜리', 'n02106550-로트와일러', 'n02106662-저먼 셰퍼드', 'n02107142-도베르만', 'n02107312-미니어처 핀셔', 'n02107683-버니즈 마운틴독', 'n02108089-복서', 'n02108422-불 마스티프', 'n02108551-티베탄 마스티프', 'n02108915-프렌치 불독', 'n02109047-그레이트 데인', 'n02109525-세인트 버나드', 'n02109961-아메리칸 에스키모', 'n02110063-말라뮤트', 'n02110185-시베리안 허스키', 'n02110627-아펜핀셔', 'n02110806-바센지', 'n02110958-퍼그', 'n02111277-뉴펀들랜드', 'n02111500-그레이트 피레니즈', 'n02111889-사모예드', 'n02112018-포메라니안', 'n02112137-차우차우', 'n02112194-시바', 'n02112350-케이스혼트', 'n02113023-펨브루크 웰시코기', 'n02113098-진돗개', 'n02113186-카디건 웰시코기', 'n02113624-토이 푸들', 'n02113712-미니어처 푸들', 'n02113799-스탠다드 푸들']\n",
      "['n02085620-치와와', 'n02085782-재패니즈 스파니엘', 'n02085936-말티즈', 'n02086079-페키니즈', 'n02086120-비숑프리제', 'n02086240-Shih-Tzu', 'n02086646-Blenheim_spaniel', 'n02086910-papillon', 'n02087046-toy_terrier', 'n02087394-Rhodesian_ridgeback', 'n02088094-Afghan_hound', 'n02088238-basset', 'n02088364-beagle', 'n02088466-bloodhound', 'n02089973-English_foxhound', 'n02090622-borzoi', 'n02090721-Irish_wolfhound', 'n02091032-Italian_greyhound', 'n02091134-whippet', 'n02091467-Norwegian_elkhound', 'n02092339-Weimaraner', 'n02093256-Staffordshire_bullterrier', 'n02093428-American_Staffordshire_terrier', 'n02093647-Bedlington_terrier', 'n02093754-Border_terrier', 'n02093859-Kerry_blue_terrier', 'n02093991-Irish_terrier', 'n02094114-Norfolk_terrier', 'n02094258-Norwich_terrier', 'n02094433-Yorkshire_terrier', 'n02095314-wire-haired_fox_terrier', 'n02095570-Lakeland_terrier', 'n02095889-Sealyham_terrier', 'n02096294-Australian_terrier', 'n02096585-Boston_bull', 'n02097047-miniature_schnauzer', 'n02097209-standard_schnauzer', 'n02097298-Scotch_terrier', 'n02097474-Tibetan_terrier', 'n02097658-silky_terrier', 'n02098105-soft-coated_wheaten_terrier', 'n02098286-West_Highland_white_terrier', 'n02098413-Lhasa', 'n02099267-flat-coated_retriever', 'n02099429-curly-coated_retriever', 'n02099601-golden_retriever', 'n02099712-Labrador_retriever', 'n02099849-Chesapeake_Bay_retriever', 'n02100236-German_short-haired_pointer', 'n02100583-vizsla', 'n02100735-English_setter', 'n02100877-Irish_setter', 'n02101388-Brittany_spaniel', 'n02102040-English_springer', 'n02102177-Welsh_springer_spaniel', 'n02102318-cocker_spaniel', 'n02102480-Sussex_spaniel', 'n02102973-Irish_water_spaniel', 'n02104029-kuvasz', 'n02105056-groenendael', 'n02105162-malinois', 'n02105641-Old_English_sheepdog', 'n02105855-Shetland_sheepdog', 'n02106030-collie', 'n02106166-Border_collie', 'n02106550-Rottweiler', 'n02106662-German_shepherd', 'n02107142-Doberman', 'n02107312-miniature_pinscher', 'n02107683-Bernese_mountain_dog', 'n02108089-boxer', 'n02108422-bull_mastiff', 'n02108551-Tibetan_mastiff', 'n02108915-French_bulldog', 'n02109047-Great_Dane', 'n02109525-Saint_Bernard', 'n02109961-Eskimo_dog', 'n02110063-malamute', 'n02110185-Siberian_husky', 'n02110627-affenpinscher', 'n02110806-basenji', 'n02110958-pug', 'n02111277-Newfoundland', 'n02111500-Great_Pyrenees', 'n02111889-Samoyed', 'n02112018-Pomeranian', 'n02112137-chow', 'n02112194-shiba_dog', 'n02112350-keeshond', 'n02113023-Pembroke', 'n02113098-jindo_dog', 'n02113186-Cardigan', 'n02113624-toy_poodle', 'n02113712-miniature_poodle', 'n02113799-standard_poodle']\n"
     ]
    }
   ],
   "source": [
    "import os\n",
    "\n",
    "# 폴더 경로\n",
    "folder_path1 = \"./stanford/images/train\"  # 폴더1 경로\n",
    "folder_path2 = \"./stanford/images/test\"  # 폴더2 경로\n",
    "\n",
    "# 폴더1과 폴더2의 폴더 이름 가져오기\n",
    "folder_names1 = sorted(os.listdir(folder_path1))\n",
    "folder_names2 = sorted(os.listdir(folder_path2))\n",
    "\n",
    "# print(folder_names1)\n",
    "# print(folder_names2)\n",
    "\n",
    "# 폴더 이름 바꾸기\n",
    "for i, folder_name2 in enumerate(folder_names2):\n",
    "    folder_path2_new = os.path.join(folder_path2, folder_names1[i])\n",
    "    os.rename(os.path.join(folder_path2, folder_name2), folder_path2_new)"
   ]
  },
  {
   "cell_type": "code",
   "execution_count": null,
   "id": "f669f357",
   "metadata": {},
   "outputs": [],
   "source": []
  }
 ],
 "metadata": {
  "kernelspec": {
   "display_name": "Python 3 (ipykernel)",
   "language": "python",
   "name": "python3"
  },
  "language_info": {
   "codemirror_mode": {
    "name": "ipython",
    "version": 3
   },
   "file_extension": ".py",
   "mimetype": "text/x-python",
   "name": "python",
   "nbconvert_exporter": "python",
   "pygments_lexer": "ipython3",
   "version": "3.9.12"
  }
 },
 "nbformat": 4,
 "nbformat_minor": 5
}
