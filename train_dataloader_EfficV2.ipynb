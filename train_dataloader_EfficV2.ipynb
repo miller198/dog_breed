{
 "cells": [
  {
   "cell_type": "markdown",
   "metadata": {},
   "source": [
    "https://medium.com/@ankitvashisht12/classifying-dog-breed-using-pytorch-abc9f3c5128a"
   ]
  },
  {
   "cell_type": "code",
   "execution_count": 1,
   "metadata": {},
   "outputs": [],
   "source": [
    "from torchvision.datasets import ImageFolder\n",
    "from torchvision import transforms\n",
    "from torch.utils.data import Dataset, random_split, DataLoader\n",
    "import torch\n",
    "import torch.nn as nn # layer들을 호출하기 위해서\n",
    "import numpy as np\n",
    "import torch.optim as optim # optimization method를 사용하기 위해서\n",
    "import torch.nn.init as init # weight initialization 해주기 위해서\n",
    "from tqdm import tqdm\n",
    "\n",
    "import os\n",
    "import pandas as pd\n",
    "import torchvision\n",
    "import matplotlib.pyplot as plt\n",
    "import torch.nn.functional as F\n",
    "from torchvision.utils import make_grid\n",
    "from torchvision.datasets import ImageFolder\n",
    "import torchvision.transforms as transforms\n",
    "import torchvision.models as models\n",
    "from PIL import Image\n",
    "from collections import OrderedDict\n",
    "from parallel import DataParallelModel,DataParallelCriterion\n",
    "# %matplotlib inline\n",
    "\n",
    "from efficientnet_pytorch import EfficientNet"
   ]
  },
  {
   "cell_type": "code",
   "execution_count": 2,
   "metadata": {},
   "outputs": [
    {
     "name": "stdout",
     "output_type": "stream",
     "text": [
      "14\n",
      "48\n"
     ]
    }
   ],
   "source": [
    "batch_size = 128\n",
    "num_workers = 2 * torch.cuda.device_count()\n",
    "print(num_workers)\n",
    "print(os.cpu_count())"
   ]
  },
  {
   "cell_type": "code",
   "execution_count": 3,
   "metadata": {},
   "outputs": [
    {
     "data": {
      "text/plain": [
       "(9600, 2400, 8580)"
      ]
     },
     "execution_count": 3,
     "metadata": {},
     "output_type": "execute_result"
    }
   ],
   "source": [
    "train_set = ImageFolder(root='./stanford/train')\n",
    "test_set = ImageFolder(root='./stanford/test')\n",
    "\n",
    "n_class = len(train_set.classes)\n",
    "\n",
    "\n",
    "dataset_size = len(train_set)\n",
    "val_pct = 0.2\n",
    "val_size = int(dataset_size*val_pct)\n",
    "train_size = dataset_size - val_size\n",
    "test_size = len(test_set)\n",
    "\n",
    "train_size, val_size, test_size"
   ]
  },
  {
   "cell_type": "code",
   "execution_count": 4,
   "metadata": {},
   "outputs": [
    {
     "data": {
      "text/plain": [
       "(9600, 2400)"
      ]
     },
     "execution_count": 4,
     "metadata": {},
     "output_type": "execute_result"
    }
   ],
   "source": [
    "train_ds, val_ds = random_split(train_set, [train_size, val_size])\n",
    "len(train_ds), len(val_ds)"
   ]
  },
  {
   "cell_type": "code",
   "execution_count": 5,
   "metadata": {},
   "outputs": [],
   "source": [
    "# Image Transform을 지정합니다.\n",
    "train_transform = transforms.Compose([\n",
    "#        transforms.Resize((128, 128)),\n",
    "    transforms.Resize((256, 256)),\n",
    "    transforms.RandomCrop(256, padding=4, padding_mode='reflect'),\n",
    "    transforms.RandomHorizontalFlip(p=0.3),\n",
    "    transforms.RandomRotation(degrees=30),\n",
    "    transforms.ToTensor(),\n",
    "#    transforms.Normalize(*imagenet_stats, inplace=True)\n",
    "])\n",
    "\n",
    "val_transform = transforms.Compose([\n",
    "#     transforms.Resize((128, 128)),\n",
    "    transforms.Resize((256, 256)),\n",
    "    transforms.ToTensor(),\n",
    "#    transforms.Normalize(*imagenet_stats, inplace=True)\n",
    "])\n",
    "\n",
    "test_transform = transforms.Compose([\n",
    "#     transforms.Resize((128, 128)), \n",
    "    transforms.Resize((256, 256)),\n",
    "    transforms.ToTensor(),\n",
    "#    transforms.Normalize(*imagenet_stats, inplace=True)\n",
    "])"
   ]
  },
  {
   "cell_type": "code",
   "execution_count": 6,
   "metadata": {},
   "outputs": [],
   "source": [
    "# 이미지 폴더로부터 데이터를 로드합니다.\n",
    "class Dataset(Dataset):\n",
    "    \n",
    "    def __init__(self, ds, transform=None):\n",
    "        self.ds = ds\n",
    "        self.transform = transform\n",
    "        \n",
    "    def __len__(self):\n",
    "        return len(self.ds)\n",
    "    \n",
    "    def __getitem__(self, idx):\n",
    "        img, label = self.ds[idx]\n",
    "        if self.transform:\n",
    "            img = self.transform(img)  \n",
    "            return img, label\n",
    "        \n",
    "        \n",
    "train_dataset = Dataset(train_ds, train_transform)\n",
    "val_dataset = Dataset(val_ds, val_transform)\n",
    "test_dataset = Dataset(test_set, test_transform)"
   ]
  },
  {
   "cell_type": "code",
   "execution_count": 7,
   "metadata": {},
   "outputs": [],
   "source": [
    "# Create DataLoaders\n",
    "train_loader = DataLoader(train_dataset, batch_size, shuffle=True, num_workers=num_workers, pin_memory=True)\n",
    "val_loader = DataLoader(val_dataset, batch_size*2, num_workers=num_workers, pin_memory=True)\n",
    "test_loader = DataLoader(test_dataset, batch_size*2, num_workers=num_workers, pin_memory=True)"
   ]
  },
  {
   "cell_type": "code",
   "execution_count": 8,
   "metadata": {},
   "outputs": [],
   "source": [
    "# 현재 배치를 이용해 격자 형태의 이미지를 만들어 시각화\n",
    "\n",
    "# def show_batch(dl):\n",
    "#     for img, lb in dl:\n",
    "#         fig, ax = plt.subplots(figsize=(16, 8))\n",
    "#         ax.set_xticks([]); ax.set_yticks([])\n",
    "#         ax.imshow(make_grid(img.cpu(), nrow=16).permute(1,2,0))\n",
    "#         break\n",
    "        \n",
    "# show_batch(train_loader)"
   ]
  },
  {
   "cell_type": "code",
   "execution_count": 9,
   "metadata": {},
   "outputs": [
    {
     "data": {
      "text/plain": [
       "(torch.Size([128, 3, 256, 256]), torch.Size([128]))"
      ]
     },
     "execution_count": 9,
     "metadata": {},
     "output_type": "execute_result"
    }
   ],
   "source": [
    "images, classes = next(iter(train_loader))\n",
    "\n",
    "images.shape, classes.shape"
   ]
  },
  {
   "cell_type": "code",
   "execution_count": 10,
   "metadata": {},
   "outputs": [],
   "source": [
    "def accuracy(outputs, labels):\n",
    "    _, preds = torch.max(outputs, dim=1)\n",
    "    return torch.tensor(torch.sum(preds == labels).item() / len(preds))"
   ]
  },
  {
   "cell_type": "code",
   "execution_count": 11,
   "metadata": {},
   "outputs": [],
   "source": [
    "class ModelBase(nn.Module):\n",
    "    # training step\n",
    "    def training_step(self, batch):\n",
    "        img, targets = batch\n",
    "        out = self(img)\n",
    "        loss = F.nll_loss(out, targets)\n",
    "        return loss\n",
    "    \n",
    "    # validation step\n",
    "    def validation_step(self, batch):\n",
    "        img, targets = batch\n",
    "        out = self(img)\n",
    "        loss = F.nll_loss(out, targets)\n",
    "        acc = accuracy(out, targets)\n",
    "        return {'val_acc':acc.detach(), 'val_loss':loss.detach()}\n",
    "    \n",
    "    # validation epoch end\n",
    "    def validation_epoch_end(self, outputs):\n",
    "        batch_losses = [x['val_loss'] for x in outputs]\n",
    "        epoch_loss = torch.stack(batch_losses).mean()\n",
    "        batch_accs = [x['val_acc'] for x in outputs]\n",
    "        epoch_acc = torch.stack(batch_accs).mean()\n",
    "        return {'val_loss':epoch_loss.item(), 'val_acc':epoch_acc.item()}\n",
    "        \n",
    "    # print result end epoch\n",
    "    def epoch_end(self, epoch, result):\n",
    "        print(\"Epoch [{}] : train_loss: {:.4f}, val_loss: {:.4f}, val_acc: {:.4f}\".format(epoch, result[\"train_loss\"], result[\"val_loss\"], result[\"val_acc\"]))\n",
    "        "
   ]
  },
  {
   "cell_type": "code",
   "execution_count": 12,
   "metadata": {},
   "outputs": [],
   "source": [
    "class PretrainedEfficientNet_V2(ModelBase):\n",
    "    def __init__(self):\n",
    "        super().__init__()\n",
    "        \n",
    "        self.network = EfficientNet.from_pretrained('efficientnet-b4')\n",
    "#         Replace last layer\n",
    "        num_ftrs = self.network._fc.in_features\n",
    "        self.network._fc = nn.Sequential(\n",
    "            nn.Linear(num_ftrs, 256),\n",
    "            nn.ReLU(),\n",
    "            nn.Dropout(0.5),\n",
    "            nn.Linear(256, n_class),\n",
    "            nn.LogSoftmax(dim=1)\n",
    "        )\n",
    "        self.network = nn.DataParallel(self.network,device_ids=[0,1,2,3,4])\n",
    "#         self.network = DataParallelModel(self.network)\n",
    "        \n",
    "    def forward(self, xb):\n",
    "        return self.network(xb)"
   ]
  },
  {
   "cell_type": "code",
   "execution_count": 13,
   "metadata": {},
   "outputs": [
    {
     "name": "stdout",
     "output_type": "stream",
     "text": [
      "Loaded pretrained weights for efficientnet-b4\n"
     ]
    },
    {
     "data": {
      "text/plain": [
       "PretrainedEfficientNet_V2(\n",
       "  (network): DataParallel(\n",
       "    (module): EfficientNet(\n",
       "      (_conv_stem): Conv2dStaticSamePadding(\n",
       "        3, 48, kernel_size=(3, 3), stride=(2, 2), bias=False\n",
       "        (static_padding): ZeroPad2d((0, 1, 0, 1))\n",
       "      )\n",
       "      (_bn0): BatchNorm2d(48, eps=0.001, momentum=0.010000000000000009, affine=True, track_running_stats=True)\n",
       "      (_blocks): ModuleList(\n",
       "        (0): MBConvBlock(\n",
       "          (_depthwise_conv): Conv2dStaticSamePadding(\n",
       "            48, 48, kernel_size=(3, 3), stride=[1, 1], groups=48, bias=False\n",
       "            (static_padding): ZeroPad2d((1, 1, 1, 1))\n",
       "          )\n",
       "          (_bn1): BatchNorm2d(48, eps=0.001, momentum=0.010000000000000009, affine=True, track_running_stats=True)\n",
       "          (_se_reduce): Conv2dStaticSamePadding(\n",
       "            48, 12, kernel_size=(1, 1), stride=(1, 1)\n",
       "            (static_padding): Identity()\n",
       "          )\n",
       "          (_se_expand): Conv2dStaticSamePadding(\n",
       "            12, 48, kernel_size=(1, 1), stride=(1, 1)\n",
       "            (static_padding): Identity()\n",
       "          )\n",
       "          (_project_conv): Conv2dStaticSamePadding(\n",
       "            48, 24, kernel_size=(1, 1), stride=(1, 1), bias=False\n",
       "            (static_padding): Identity()\n",
       "          )\n",
       "          (_bn2): BatchNorm2d(24, eps=0.001, momentum=0.010000000000000009, affine=True, track_running_stats=True)\n",
       "          (_swish): MemoryEfficientSwish()\n",
       "        )\n",
       "        (1): MBConvBlock(\n",
       "          (_depthwise_conv): Conv2dStaticSamePadding(\n",
       "            24, 24, kernel_size=(3, 3), stride=(1, 1), groups=24, bias=False\n",
       "            (static_padding): ZeroPad2d((1, 1, 1, 1))\n",
       "          )\n",
       "          (_bn1): BatchNorm2d(24, eps=0.001, momentum=0.010000000000000009, affine=True, track_running_stats=True)\n",
       "          (_se_reduce): Conv2dStaticSamePadding(\n",
       "            24, 6, kernel_size=(1, 1), stride=(1, 1)\n",
       "            (static_padding): Identity()\n",
       "          )\n",
       "          (_se_expand): Conv2dStaticSamePadding(\n",
       "            6, 24, kernel_size=(1, 1), stride=(1, 1)\n",
       "            (static_padding): Identity()\n",
       "          )\n",
       "          (_project_conv): Conv2dStaticSamePadding(\n",
       "            24, 24, kernel_size=(1, 1), stride=(1, 1), bias=False\n",
       "            (static_padding): Identity()\n",
       "          )\n",
       "          (_bn2): BatchNorm2d(24, eps=0.001, momentum=0.010000000000000009, affine=True, track_running_stats=True)\n",
       "          (_swish): MemoryEfficientSwish()\n",
       "        )\n",
       "        (2): MBConvBlock(\n",
       "          (_expand_conv): Conv2dStaticSamePadding(\n",
       "            24, 144, kernel_size=(1, 1), stride=(1, 1), bias=False\n",
       "            (static_padding): Identity()\n",
       "          )\n",
       "          (_bn0): BatchNorm2d(144, eps=0.001, momentum=0.010000000000000009, affine=True, track_running_stats=True)\n",
       "          (_depthwise_conv): Conv2dStaticSamePadding(\n",
       "            144, 144, kernel_size=(3, 3), stride=[2, 2], groups=144, bias=False\n",
       "            (static_padding): ZeroPad2d((0, 1, 0, 1))\n",
       "          )\n",
       "          (_bn1): BatchNorm2d(144, eps=0.001, momentum=0.010000000000000009, affine=True, track_running_stats=True)\n",
       "          (_se_reduce): Conv2dStaticSamePadding(\n",
       "            144, 6, kernel_size=(1, 1), stride=(1, 1)\n",
       "            (static_padding): Identity()\n",
       "          )\n",
       "          (_se_expand): Conv2dStaticSamePadding(\n",
       "            6, 144, kernel_size=(1, 1), stride=(1, 1)\n",
       "            (static_padding): Identity()\n",
       "          )\n",
       "          (_project_conv): Conv2dStaticSamePadding(\n",
       "            144, 32, kernel_size=(1, 1), stride=(1, 1), bias=False\n",
       "            (static_padding): Identity()\n",
       "          )\n",
       "          (_bn2): BatchNorm2d(32, eps=0.001, momentum=0.010000000000000009, affine=True, track_running_stats=True)\n",
       "          (_swish): MemoryEfficientSwish()\n",
       "        )\n",
       "        (3): MBConvBlock(\n",
       "          (_expand_conv): Conv2dStaticSamePadding(\n",
       "            32, 192, kernel_size=(1, 1), stride=(1, 1), bias=False\n",
       "            (static_padding): Identity()\n",
       "          )\n",
       "          (_bn0): BatchNorm2d(192, eps=0.001, momentum=0.010000000000000009, affine=True, track_running_stats=True)\n",
       "          (_depthwise_conv): Conv2dStaticSamePadding(\n",
       "            192, 192, kernel_size=(3, 3), stride=(1, 1), groups=192, bias=False\n",
       "            (static_padding): ZeroPad2d((1, 1, 1, 1))\n",
       "          )\n",
       "          (_bn1): BatchNorm2d(192, eps=0.001, momentum=0.010000000000000009, affine=True, track_running_stats=True)\n",
       "          (_se_reduce): Conv2dStaticSamePadding(\n",
       "            192, 8, kernel_size=(1, 1), stride=(1, 1)\n",
       "            (static_padding): Identity()\n",
       "          )\n",
       "          (_se_expand): Conv2dStaticSamePadding(\n",
       "            8, 192, kernel_size=(1, 1), stride=(1, 1)\n",
       "            (static_padding): Identity()\n",
       "          )\n",
       "          (_project_conv): Conv2dStaticSamePadding(\n",
       "            192, 32, kernel_size=(1, 1), stride=(1, 1), bias=False\n",
       "            (static_padding): Identity()\n",
       "          )\n",
       "          (_bn2): BatchNorm2d(32, eps=0.001, momentum=0.010000000000000009, affine=True, track_running_stats=True)\n",
       "          (_swish): MemoryEfficientSwish()\n",
       "        )\n",
       "        (4): MBConvBlock(\n",
       "          (_expand_conv): Conv2dStaticSamePadding(\n",
       "            32, 192, kernel_size=(1, 1), stride=(1, 1), bias=False\n",
       "            (static_padding): Identity()\n",
       "          )\n",
       "          (_bn0): BatchNorm2d(192, eps=0.001, momentum=0.010000000000000009, affine=True, track_running_stats=True)\n",
       "          (_depthwise_conv): Conv2dStaticSamePadding(\n",
       "            192, 192, kernel_size=(3, 3), stride=(1, 1), groups=192, bias=False\n",
       "            (static_padding): ZeroPad2d((1, 1, 1, 1))\n",
       "          )\n",
       "          (_bn1): BatchNorm2d(192, eps=0.001, momentum=0.010000000000000009, affine=True, track_running_stats=True)\n",
       "          (_se_reduce): Conv2dStaticSamePadding(\n",
       "            192, 8, kernel_size=(1, 1), stride=(1, 1)\n",
       "            (static_padding): Identity()\n",
       "          )\n",
       "          (_se_expand): Conv2dStaticSamePadding(\n",
       "            8, 192, kernel_size=(1, 1), stride=(1, 1)\n",
       "            (static_padding): Identity()\n",
       "          )\n",
       "          (_project_conv): Conv2dStaticSamePadding(\n",
       "            192, 32, kernel_size=(1, 1), stride=(1, 1), bias=False\n",
       "            (static_padding): Identity()\n",
       "          )\n",
       "          (_bn2): BatchNorm2d(32, eps=0.001, momentum=0.010000000000000009, affine=True, track_running_stats=True)\n",
       "          (_swish): MemoryEfficientSwish()\n",
       "        )\n",
       "        (5): MBConvBlock(\n",
       "          (_expand_conv): Conv2dStaticSamePadding(\n",
       "            32, 192, kernel_size=(1, 1), stride=(1, 1), bias=False\n",
       "            (static_padding): Identity()\n",
       "          )\n",
       "          (_bn0): BatchNorm2d(192, eps=0.001, momentum=0.010000000000000009, affine=True, track_running_stats=True)\n",
       "          (_depthwise_conv): Conv2dStaticSamePadding(\n",
       "            192, 192, kernel_size=(3, 3), stride=(1, 1), groups=192, bias=False\n",
       "            (static_padding): ZeroPad2d((1, 1, 1, 1))\n",
       "          )\n",
       "          (_bn1): BatchNorm2d(192, eps=0.001, momentum=0.010000000000000009, affine=True, track_running_stats=True)\n",
       "          (_se_reduce): Conv2dStaticSamePadding(\n",
       "            192, 8, kernel_size=(1, 1), stride=(1, 1)\n",
       "            (static_padding): Identity()\n",
       "          )\n",
       "          (_se_expand): Conv2dStaticSamePadding(\n",
       "            8, 192, kernel_size=(1, 1), stride=(1, 1)\n",
       "            (static_padding): Identity()\n",
       "          )\n",
       "          (_project_conv): Conv2dStaticSamePadding(\n",
       "            192, 32, kernel_size=(1, 1), stride=(1, 1), bias=False\n",
       "            (static_padding): Identity()\n",
       "          )\n",
       "          (_bn2): BatchNorm2d(32, eps=0.001, momentum=0.010000000000000009, affine=True, track_running_stats=True)\n",
       "          (_swish): MemoryEfficientSwish()\n",
       "        )\n",
       "        (6): MBConvBlock(\n",
       "          (_expand_conv): Conv2dStaticSamePadding(\n",
       "            32, 192, kernel_size=(1, 1), stride=(1, 1), bias=False\n",
       "            (static_padding): Identity()\n",
       "          )\n",
       "          (_bn0): BatchNorm2d(192, eps=0.001, momentum=0.010000000000000009, affine=True, track_running_stats=True)\n",
       "          (_depthwise_conv): Conv2dStaticSamePadding(\n",
       "            192, 192, kernel_size=(5, 5), stride=[2, 2], groups=192, bias=False\n",
       "            (static_padding): ZeroPad2d((2, 2, 2, 2))\n",
       "          )\n",
       "          (_bn1): BatchNorm2d(192, eps=0.001, momentum=0.010000000000000009, affine=True, track_running_stats=True)\n",
       "          (_se_reduce): Conv2dStaticSamePadding(\n",
       "            192, 8, kernel_size=(1, 1), stride=(1, 1)\n",
       "            (static_padding): Identity()\n",
       "          )\n",
       "          (_se_expand): Conv2dStaticSamePadding(\n",
       "            8, 192, kernel_size=(1, 1), stride=(1, 1)\n",
       "            (static_padding): Identity()\n",
       "          )\n",
       "          (_project_conv): Conv2dStaticSamePadding(\n",
       "            192, 56, kernel_size=(1, 1), stride=(1, 1), bias=False\n",
       "            (static_padding): Identity()\n",
       "          )\n",
       "          (_bn2): BatchNorm2d(56, eps=0.001, momentum=0.010000000000000009, affine=True, track_running_stats=True)\n",
       "          (_swish): MemoryEfficientSwish()\n",
       "        )\n",
       "        (7): MBConvBlock(\n",
       "          (_expand_conv): Conv2dStaticSamePadding(\n",
       "            56, 336, kernel_size=(1, 1), stride=(1, 1), bias=False\n",
       "            (static_padding): Identity()\n",
       "          )\n",
       "          (_bn0): BatchNorm2d(336, eps=0.001, momentum=0.010000000000000009, affine=True, track_running_stats=True)\n",
       "          (_depthwise_conv): Conv2dStaticSamePadding(\n",
       "            336, 336, kernel_size=(5, 5), stride=(1, 1), groups=336, bias=False\n",
       "            (static_padding): ZeroPad2d((2, 2, 2, 2))\n",
       "          )\n",
       "          (_bn1): BatchNorm2d(336, eps=0.001, momentum=0.010000000000000009, affine=True, track_running_stats=True)\n",
       "          (_se_reduce): Conv2dStaticSamePadding(\n",
       "            336, 14, kernel_size=(1, 1), stride=(1, 1)\n",
       "            (static_padding): Identity()\n",
       "          )\n",
       "          (_se_expand): Conv2dStaticSamePadding(\n",
       "            14, 336, kernel_size=(1, 1), stride=(1, 1)\n",
       "            (static_padding): Identity()\n",
       "          )\n",
       "          (_project_conv): Conv2dStaticSamePadding(\n",
       "            336, 56, kernel_size=(1, 1), stride=(1, 1), bias=False\n",
       "            (static_padding): Identity()\n",
       "          )\n",
       "          (_bn2): BatchNorm2d(56, eps=0.001, momentum=0.010000000000000009, affine=True, track_running_stats=True)\n",
       "          (_swish): MemoryEfficientSwish()\n",
       "        )\n",
       "        (8): MBConvBlock(\n",
       "          (_expand_conv): Conv2dStaticSamePadding(\n",
       "            56, 336, kernel_size=(1, 1), stride=(1, 1), bias=False\n",
       "            (static_padding): Identity()\n",
       "          )\n",
       "          (_bn0): BatchNorm2d(336, eps=0.001, momentum=0.010000000000000009, affine=True, track_running_stats=True)\n",
       "          (_depthwise_conv): Conv2dStaticSamePadding(\n",
       "            336, 336, kernel_size=(5, 5), stride=(1, 1), groups=336, bias=False\n",
       "            (static_padding): ZeroPad2d((2, 2, 2, 2))\n",
       "          )\n",
       "          (_bn1): BatchNorm2d(336, eps=0.001, momentum=0.010000000000000009, affine=True, track_running_stats=True)\n",
       "          (_se_reduce): Conv2dStaticSamePadding(\n",
       "            336, 14, kernel_size=(1, 1), stride=(1, 1)\n",
       "            (static_padding): Identity()\n",
       "          )\n",
       "          (_se_expand): Conv2dStaticSamePadding(\n",
       "            14, 336, kernel_size=(1, 1), stride=(1, 1)\n",
       "            (static_padding): Identity()\n",
       "          )\n",
       "          (_project_conv): Conv2dStaticSamePadding(\n",
       "            336, 56, kernel_size=(1, 1), stride=(1, 1), bias=False\n",
       "            (static_padding): Identity()\n",
       "          )\n",
       "          (_bn2): BatchNorm2d(56, eps=0.001, momentum=0.010000000000000009, affine=True, track_running_stats=True)\n",
       "          (_swish): MemoryEfficientSwish()\n",
       "        )\n",
       "        (9): MBConvBlock(\n",
       "          (_expand_conv): Conv2dStaticSamePadding(\n",
       "            56, 336, kernel_size=(1, 1), stride=(1, 1), bias=False\n",
       "            (static_padding): Identity()\n",
       "          )\n",
       "          (_bn0): BatchNorm2d(336, eps=0.001, momentum=0.010000000000000009, affine=True, track_running_stats=True)\n",
       "          (_depthwise_conv): Conv2dStaticSamePadding(\n",
       "            336, 336, kernel_size=(5, 5), stride=(1, 1), groups=336, bias=False\n",
       "            (static_padding): ZeroPad2d((2, 2, 2, 2))\n",
       "          )\n",
       "          (_bn1): BatchNorm2d(336, eps=0.001, momentum=0.010000000000000009, affine=True, track_running_stats=True)\n",
       "          (_se_reduce): Conv2dStaticSamePadding(\n",
       "            336, 14, kernel_size=(1, 1), stride=(1, 1)\n",
       "            (static_padding): Identity()\n",
       "          )\n",
       "          (_se_expand): Conv2dStaticSamePadding(\n",
       "            14, 336, kernel_size=(1, 1), stride=(1, 1)\n",
       "            (static_padding): Identity()\n",
       "          )\n",
       "          (_project_conv): Conv2dStaticSamePadding(\n",
       "            336, 56, kernel_size=(1, 1), stride=(1, 1), bias=False\n",
       "            (static_padding): Identity()\n",
       "          )\n",
       "          (_bn2): BatchNorm2d(56, eps=0.001, momentum=0.010000000000000009, affine=True, track_running_stats=True)\n",
       "          (_swish): MemoryEfficientSwish()\n",
       "        )\n",
       "        (10): MBConvBlock(\n",
       "          (_expand_conv): Conv2dStaticSamePadding(\n",
       "            56, 336, kernel_size=(1, 1), stride=(1, 1), bias=False\n",
       "            (static_padding): Identity()\n",
       "          )\n",
       "          (_bn0): BatchNorm2d(336, eps=0.001, momentum=0.010000000000000009, affine=True, track_running_stats=True)\n",
       "          (_depthwise_conv): Conv2dStaticSamePadding(\n",
       "            336, 336, kernel_size=(3, 3), stride=[2, 2], groups=336, bias=False\n",
       "            (static_padding): ZeroPad2d((0, 1, 0, 1))\n",
       "          )\n",
       "          (_bn1): BatchNorm2d(336, eps=0.001, momentum=0.010000000000000009, affine=True, track_running_stats=True)\n",
       "          (_se_reduce): Conv2dStaticSamePadding(\n",
       "            336, 14, kernel_size=(1, 1), stride=(1, 1)\n",
       "            (static_padding): Identity()\n",
       "          )\n",
       "          (_se_expand): Conv2dStaticSamePadding(\n",
       "            14, 336, kernel_size=(1, 1), stride=(1, 1)\n",
       "            (static_padding): Identity()\n",
       "          )\n",
       "          (_project_conv): Conv2dStaticSamePadding(\n",
       "            336, 112, kernel_size=(1, 1), stride=(1, 1), bias=False\n",
       "            (static_padding): Identity()\n",
       "          )\n",
       "          (_bn2): BatchNorm2d(112, eps=0.001, momentum=0.010000000000000009, affine=True, track_running_stats=True)\n",
       "          (_swish): MemoryEfficientSwish()\n",
       "        )\n",
       "        (11): MBConvBlock(\n",
       "          (_expand_conv): Conv2dStaticSamePadding(\n",
       "            112, 672, kernel_size=(1, 1), stride=(1, 1), bias=False\n",
       "            (static_padding): Identity()\n",
       "          )\n",
       "          (_bn0): BatchNorm2d(672, eps=0.001, momentum=0.010000000000000009, affine=True, track_running_stats=True)\n",
       "          (_depthwise_conv): Conv2dStaticSamePadding(\n",
       "            672, 672, kernel_size=(3, 3), stride=(1, 1), groups=672, bias=False\n",
       "            (static_padding): ZeroPad2d((1, 1, 1, 1))\n",
       "          )\n",
       "          (_bn1): BatchNorm2d(672, eps=0.001, momentum=0.010000000000000009, affine=True, track_running_stats=True)\n",
       "          (_se_reduce): Conv2dStaticSamePadding(\n",
       "            672, 28, kernel_size=(1, 1), stride=(1, 1)\n",
       "            (static_padding): Identity()\n",
       "          )\n",
       "          (_se_expand): Conv2dStaticSamePadding(\n",
       "            28, 672, kernel_size=(1, 1), stride=(1, 1)\n",
       "            (static_padding): Identity()\n",
       "          )\n",
       "          (_project_conv): Conv2dStaticSamePadding(\n",
       "            672, 112, kernel_size=(1, 1), stride=(1, 1), bias=False\n",
       "            (static_padding): Identity()\n",
       "          )\n",
       "          (_bn2): BatchNorm2d(112, eps=0.001, momentum=0.010000000000000009, affine=True, track_running_stats=True)\n",
       "          (_swish): MemoryEfficientSwish()\n",
       "        )\n",
       "        (12): MBConvBlock(\n",
       "          (_expand_conv): Conv2dStaticSamePadding(\n",
       "            112, 672, kernel_size=(1, 1), stride=(1, 1), bias=False\n",
       "            (static_padding): Identity()\n",
       "          )\n",
       "          (_bn0): BatchNorm2d(672, eps=0.001, momentum=0.010000000000000009, affine=True, track_running_stats=True)\n",
       "          (_depthwise_conv): Conv2dStaticSamePadding(\n",
       "            672, 672, kernel_size=(3, 3), stride=(1, 1), groups=672, bias=False\n",
       "            (static_padding): ZeroPad2d((1, 1, 1, 1))\n",
       "          )\n",
       "          (_bn1): BatchNorm2d(672, eps=0.001, momentum=0.010000000000000009, affine=True, track_running_stats=True)\n",
       "          (_se_reduce): Conv2dStaticSamePadding(\n",
       "            672, 28, kernel_size=(1, 1), stride=(1, 1)\n",
       "            (static_padding): Identity()\n",
       "          )\n",
       "          (_se_expand): Conv2dStaticSamePadding(\n",
       "            28, 672, kernel_size=(1, 1), stride=(1, 1)\n",
       "            (static_padding): Identity()\n",
       "          )\n",
       "          (_project_conv): Conv2dStaticSamePadding(\n",
       "            672, 112, kernel_size=(1, 1), stride=(1, 1), bias=False\n",
       "            (static_padding): Identity()\n",
       "          )\n",
       "          (_bn2): BatchNorm2d(112, eps=0.001, momentum=0.010000000000000009, affine=True, track_running_stats=True)\n",
       "          (_swish): MemoryEfficientSwish()\n",
       "        )\n",
       "        (13): MBConvBlock(\n",
       "          (_expand_conv): Conv2dStaticSamePadding(\n",
       "            112, 672, kernel_size=(1, 1), stride=(1, 1), bias=False\n",
       "            (static_padding): Identity()\n",
       "          )\n",
       "          (_bn0): BatchNorm2d(672, eps=0.001, momentum=0.010000000000000009, affine=True, track_running_stats=True)\n",
       "          (_depthwise_conv): Conv2dStaticSamePadding(\n",
       "            672, 672, kernel_size=(3, 3), stride=(1, 1), groups=672, bias=False\n",
       "            (static_padding): ZeroPad2d((1, 1, 1, 1))\n",
       "          )\n",
       "          (_bn1): BatchNorm2d(672, eps=0.001, momentum=0.010000000000000009, affine=True, track_running_stats=True)\n",
       "          (_se_reduce): Conv2dStaticSamePadding(\n",
       "            672, 28, kernel_size=(1, 1), stride=(1, 1)\n",
       "            (static_padding): Identity()\n",
       "          )\n",
       "          (_se_expand): Conv2dStaticSamePadding(\n",
       "            28, 672, kernel_size=(1, 1), stride=(1, 1)\n",
       "            (static_padding): Identity()\n",
       "          )\n",
       "          (_project_conv): Conv2dStaticSamePadding(\n",
       "            672, 112, kernel_size=(1, 1), stride=(1, 1), bias=False\n",
       "            (static_padding): Identity()\n",
       "          )\n",
       "          (_bn2): BatchNorm2d(112, eps=0.001, momentum=0.010000000000000009, affine=True, track_running_stats=True)\n",
       "          (_swish): MemoryEfficientSwish()\n",
       "        )\n",
       "        (14): MBConvBlock(\n",
       "          (_expand_conv): Conv2dStaticSamePadding(\n",
       "            112, 672, kernel_size=(1, 1), stride=(1, 1), bias=False\n",
       "            (static_padding): Identity()\n",
       "          )\n",
       "          (_bn0): BatchNorm2d(672, eps=0.001, momentum=0.010000000000000009, affine=True, track_running_stats=True)\n",
       "          (_depthwise_conv): Conv2dStaticSamePadding(\n",
       "            672, 672, kernel_size=(3, 3), stride=(1, 1), groups=672, bias=False\n",
       "            (static_padding): ZeroPad2d((1, 1, 1, 1))\n",
       "          )\n",
       "          (_bn1): BatchNorm2d(672, eps=0.001, momentum=0.010000000000000009, affine=True, track_running_stats=True)\n",
       "          (_se_reduce): Conv2dStaticSamePadding(\n",
       "            672, 28, kernel_size=(1, 1), stride=(1, 1)\n",
       "            (static_padding): Identity()\n",
       "          )\n",
       "          (_se_expand): Conv2dStaticSamePadding(\n",
       "            28, 672, kernel_size=(1, 1), stride=(1, 1)\n",
       "            (static_padding): Identity()\n",
       "          )\n",
       "          (_project_conv): Conv2dStaticSamePadding(\n",
       "            672, 112, kernel_size=(1, 1), stride=(1, 1), bias=False\n",
       "            (static_padding): Identity()\n",
       "          )\n",
       "          (_bn2): BatchNorm2d(112, eps=0.001, momentum=0.010000000000000009, affine=True, track_running_stats=True)\n",
       "          (_swish): MemoryEfficientSwish()\n",
       "        )\n",
       "        (15): MBConvBlock(\n",
       "          (_expand_conv): Conv2dStaticSamePadding(\n",
       "            112, 672, kernel_size=(1, 1), stride=(1, 1), bias=False\n",
       "            (static_padding): Identity()\n",
       "          )\n",
       "          (_bn0): BatchNorm2d(672, eps=0.001, momentum=0.010000000000000009, affine=True, track_running_stats=True)\n",
       "          (_depthwise_conv): Conv2dStaticSamePadding(\n",
       "            672, 672, kernel_size=(3, 3), stride=(1, 1), groups=672, bias=False\n",
       "            (static_padding): ZeroPad2d((1, 1, 1, 1))\n",
       "          )\n",
       "          (_bn1): BatchNorm2d(672, eps=0.001, momentum=0.010000000000000009, affine=True, track_running_stats=True)\n",
       "          (_se_reduce): Conv2dStaticSamePadding(\n",
       "            672, 28, kernel_size=(1, 1), stride=(1, 1)\n",
       "            (static_padding): Identity()\n",
       "          )\n",
       "          (_se_expand): Conv2dStaticSamePadding(\n",
       "            28, 672, kernel_size=(1, 1), stride=(1, 1)\n",
       "            (static_padding): Identity()\n",
       "          )\n",
       "          (_project_conv): Conv2dStaticSamePadding(\n",
       "            672, 112, kernel_size=(1, 1), stride=(1, 1), bias=False\n",
       "            (static_padding): Identity()\n",
       "          )\n",
       "          (_bn2): BatchNorm2d(112, eps=0.001, momentum=0.010000000000000009, affine=True, track_running_stats=True)\n",
       "          (_swish): MemoryEfficientSwish()\n",
       "        )\n",
       "        (16): MBConvBlock(\n",
       "          (_expand_conv): Conv2dStaticSamePadding(\n",
       "            112, 672, kernel_size=(1, 1), stride=(1, 1), bias=False\n",
       "            (static_padding): Identity()\n",
       "          )\n",
       "          (_bn0): BatchNorm2d(672, eps=0.001, momentum=0.010000000000000009, affine=True, track_running_stats=True)\n",
       "          (_depthwise_conv): Conv2dStaticSamePadding(\n",
       "            672, 672, kernel_size=(5, 5), stride=[1, 1], groups=672, bias=False\n",
       "            (static_padding): ZeroPad2d((2, 2, 2, 2))\n",
       "          )\n",
       "          (_bn1): BatchNorm2d(672, eps=0.001, momentum=0.010000000000000009, affine=True, track_running_stats=True)\n",
       "          (_se_reduce): Conv2dStaticSamePadding(\n",
       "            672, 28, kernel_size=(1, 1), stride=(1, 1)\n",
       "            (static_padding): Identity()\n",
       "          )\n",
       "          (_se_expand): Conv2dStaticSamePadding(\n",
       "            28, 672, kernel_size=(1, 1), stride=(1, 1)\n",
       "            (static_padding): Identity()\n",
       "          )\n",
       "          (_project_conv): Conv2dStaticSamePadding(\n",
       "            672, 160, kernel_size=(1, 1), stride=(1, 1), bias=False\n",
       "            (static_padding): Identity()\n",
       "          )\n",
       "          (_bn2): BatchNorm2d(160, eps=0.001, momentum=0.010000000000000009, affine=True, track_running_stats=True)\n",
       "          (_swish): MemoryEfficientSwish()\n",
       "        )\n",
       "        (17): MBConvBlock(\n",
       "          (_expand_conv): Conv2dStaticSamePadding(\n",
       "            160, 960, kernel_size=(1, 1), stride=(1, 1), bias=False\n",
       "            (static_padding): Identity()\n",
       "          )\n",
       "          (_bn0): BatchNorm2d(960, eps=0.001, momentum=0.010000000000000009, affine=True, track_running_stats=True)\n",
       "          (_depthwise_conv): Conv2dStaticSamePadding(\n",
       "            960, 960, kernel_size=(5, 5), stride=(1, 1), groups=960, bias=False\n",
       "            (static_padding): ZeroPad2d((2, 2, 2, 2))\n",
       "          )\n",
       "          (_bn1): BatchNorm2d(960, eps=0.001, momentum=0.010000000000000009, affine=True, track_running_stats=True)\n",
       "          (_se_reduce): Conv2dStaticSamePadding(\n",
       "            960, 40, kernel_size=(1, 1), stride=(1, 1)\n",
       "            (static_padding): Identity()\n",
       "          )\n",
       "          (_se_expand): Conv2dStaticSamePadding(\n",
       "            40, 960, kernel_size=(1, 1), stride=(1, 1)\n",
       "            (static_padding): Identity()\n",
       "          )\n",
       "          (_project_conv): Conv2dStaticSamePadding(\n",
       "            960, 160, kernel_size=(1, 1), stride=(1, 1), bias=False\n",
       "            (static_padding): Identity()\n",
       "          )\n",
       "          (_bn2): BatchNorm2d(160, eps=0.001, momentum=0.010000000000000009, affine=True, track_running_stats=True)\n",
       "          (_swish): MemoryEfficientSwish()\n",
       "        )\n",
       "        (18): MBConvBlock(\n",
       "          (_expand_conv): Conv2dStaticSamePadding(\n",
       "            160, 960, kernel_size=(1, 1), stride=(1, 1), bias=False\n",
       "            (static_padding): Identity()\n",
       "          )\n",
       "          (_bn0): BatchNorm2d(960, eps=0.001, momentum=0.010000000000000009, affine=True, track_running_stats=True)\n",
       "          (_depthwise_conv): Conv2dStaticSamePadding(\n",
       "            960, 960, kernel_size=(5, 5), stride=(1, 1), groups=960, bias=False\n",
       "            (static_padding): ZeroPad2d((2, 2, 2, 2))\n",
       "          )\n",
       "          (_bn1): BatchNorm2d(960, eps=0.001, momentum=0.010000000000000009, affine=True, track_running_stats=True)\n",
       "          (_se_reduce): Conv2dStaticSamePadding(\n",
       "            960, 40, kernel_size=(1, 1), stride=(1, 1)\n",
       "            (static_padding): Identity()\n",
       "          )\n",
       "          (_se_expand): Conv2dStaticSamePadding(\n",
       "            40, 960, kernel_size=(1, 1), stride=(1, 1)\n",
       "            (static_padding): Identity()\n",
       "          )\n",
       "          (_project_conv): Conv2dStaticSamePadding(\n",
       "            960, 160, kernel_size=(1, 1), stride=(1, 1), bias=False\n",
       "            (static_padding): Identity()\n",
       "          )\n",
       "          (_bn2): BatchNorm2d(160, eps=0.001, momentum=0.010000000000000009, affine=True, track_running_stats=True)\n",
       "          (_swish): MemoryEfficientSwish()\n",
       "        )\n",
       "        (19): MBConvBlock(\n",
       "          (_expand_conv): Conv2dStaticSamePadding(\n",
       "            160, 960, kernel_size=(1, 1), stride=(1, 1), bias=False\n",
       "            (static_padding): Identity()\n",
       "          )\n",
       "          (_bn0): BatchNorm2d(960, eps=0.001, momentum=0.010000000000000009, affine=True, track_running_stats=True)\n",
       "          (_depthwise_conv): Conv2dStaticSamePadding(\n",
       "            960, 960, kernel_size=(5, 5), stride=(1, 1), groups=960, bias=False\n",
       "            (static_padding): ZeroPad2d((2, 2, 2, 2))\n",
       "          )\n",
       "          (_bn1): BatchNorm2d(960, eps=0.001, momentum=0.010000000000000009, affine=True, track_running_stats=True)\n",
       "          (_se_reduce): Conv2dStaticSamePadding(\n",
       "            960, 40, kernel_size=(1, 1), stride=(1, 1)\n",
       "            (static_padding): Identity()\n",
       "          )\n",
       "          (_se_expand): Conv2dStaticSamePadding(\n",
       "            40, 960, kernel_size=(1, 1), stride=(1, 1)\n",
       "            (static_padding): Identity()\n",
       "          )\n",
       "          (_project_conv): Conv2dStaticSamePadding(\n",
       "            960, 160, kernel_size=(1, 1), stride=(1, 1), bias=False\n",
       "            (static_padding): Identity()\n",
       "          )\n",
       "          (_bn2): BatchNorm2d(160, eps=0.001, momentum=0.010000000000000009, affine=True, track_running_stats=True)\n",
       "          (_swish): MemoryEfficientSwish()\n",
       "        )\n",
       "        (20): MBConvBlock(\n",
       "          (_expand_conv): Conv2dStaticSamePadding(\n",
       "            160, 960, kernel_size=(1, 1), stride=(1, 1), bias=False\n",
       "            (static_padding): Identity()\n",
       "          )\n",
       "          (_bn0): BatchNorm2d(960, eps=0.001, momentum=0.010000000000000009, affine=True, track_running_stats=True)\n",
       "          (_depthwise_conv): Conv2dStaticSamePadding(\n",
       "            960, 960, kernel_size=(5, 5), stride=(1, 1), groups=960, bias=False\n",
       "            (static_padding): ZeroPad2d((2, 2, 2, 2))\n",
       "          )\n",
       "          (_bn1): BatchNorm2d(960, eps=0.001, momentum=0.010000000000000009, affine=True, track_running_stats=True)\n",
       "          (_se_reduce): Conv2dStaticSamePadding(\n",
       "            960, 40, kernel_size=(1, 1), stride=(1, 1)\n",
       "            (static_padding): Identity()\n",
       "          )\n",
       "          (_se_expand): Conv2dStaticSamePadding(\n",
       "            40, 960, kernel_size=(1, 1), stride=(1, 1)\n",
       "            (static_padding): Identity()\n",
       "          )\n",
       "          (_project_conv): Conv2dStaticSamePadding(\n",
       "            960, 160, kernel_size=(1, 1), stride=(1, 1), bias=False\n",
       "            (static_padding): Identity()\n",
       "          )\n",
       "          (_bn2): BatchNorm2d(160, eps=0.001, momentum=0.010000000000000009, affine=True, track_running_stats=True)\n",
       "          (_swish): MemoryEfficientSwish()\n",
       "        )\n",
       "        (21): MBConvBlock(\n",
       "          (_expand_conv): Conv2dStaticSamePadding(\n",
       "            160, 960, kernel_size=(1, 1), stride=(1, 1), bias=False\n",
       "            (static_padding): Identity()\n",
       "          )\n",
       "          (_bn0): BatchNorm2d(960, eps=0.001, momentum=0.010000000000000009, affine=True, track_running_stats=True)\n",
       "          (_depthwise_conv): Conv2dStaticSamePadding(\n",
       "            960, 960, kernel_size=(5, 5), stride=(1, 1), groups=960, bias=False\n",
       "            (static_padding): ZeroPad2d((2, 2, 2, 2))\n",
       "          )\n",
       "          (_bn1): BatchNorm2d(960, eps=0.001, momentum=0.010000000000000009, affine=True, track_running_stats=True)\n",
       "          (_se_reduce): Conv2dStaticSamePadding(\n",
       "            960, 40, kernel_size=(1, 1), stride=(1, 1)\n",
       "            (static_padding): Identity()\n",
       "          )\n",
       "          (_se_expand): Conv2dStaticSamePadding(\n",
       "            40, 960, kernel_size=(1, 1), stride=(1, 1)\n",
       "            (static_padding): Identity()\n",
       "          )\n",
       "          (_project_conv): Conv2dStaticSamePadding(\n",
       "            960, 160, kernel_size=(1, 1), stride=(1, 1), bias=False\n",
       "            (static_padding): Identity()\n",
       "          )\n",
       "          (_bn2): BatchNorm2d(160, eps=0.001, momentum=0.010000000000000009, affine=True, track_running_stats=True)\n",
       "          (_swish): MemoryEfficientSwish()\n",
       "        )\n",
       "        (22): MBConvBlock(\n",
       "          (_expand_conv): Conv2dStaticSamePadding(\n",
       "            160, 960, kernel_size=(1, 1), stride=(1, 1), bias=False\n",
       "            (static_padding): Identity()\n",
       "          )\n",
       "          (_bn0): BatchNorm2d(960, eps=0.001, momentum=0.010000000000000009, affine=True, track_running_stats=True)\n",
       "          (_depthwise_conv): Conv2dStaticSamePadding(\n",
       "            960, 960, kernel_size=(5, 5), stride=[2, 2], groups=960, bias=False\n",
       "            (static_padding): ZeroPad2d((1, 2, 1, 2))\n",
       "          )\n",
       "          (_bn1): BatchNorm2d(960, eps=0.001, momentum=0.010000000000000009, affine=True, track_running_stats=True)\n",
       "          (_se_reduce): Conv2dStaticSamePadding(\n",
       "            960, 40, kernel_size=(1, 1), stride=(1, 1)\n",
       "            (static_padding): Identity()\n",
       "          )\n",
       "          (_se_expand): Conv2dStaticSamePadding(\n",
       "            40, 960, kernel_size=(1, 1), stride=(1, 1)\n",
       "            (static_padding): Identity()\n",
       "          )\n",
       "          (_project_conv): Conv2dStaticSamePadding(\n",
       "            960, 272, kernel_size=(1, 1), stride=(1, 1), bias=False\n",
       "            (static_padding): Identity()\n",
       "          )\n",
       "          (_bn2): BatchNorm2d(272, eps=0.001, momentum=0.010000000000000009, affine=True, track_running_stats=True)\n",
       "          (_swish): MemoryEfficientSwish()\n",
       "        )\n",
       "        (23): MBConvBlock(\n",
       "          (_expand_conv): Conv2dStaticSamePadding(\n",
       "            272, 1632, kernel_size=(1, 1), stride=(1, 1), bias=False\n",
       "            (static_padding): Identity()\n",
       "          )\n",
       "          (_bn0): BatchNorm2d(1632, eps=0.001, momentum=0.010000000000000009, affine=True, track_running_stats=True)\n",
       "          (_depthwise_conv): Conv2dStaticSamePadding(\n",
       "            1632, 1632, kernel_size=(5, 5), stride=(1, 1), groups=1632, bias=False\n",
       "            (static_padding): ZeroPad2d((2, 2, 2, 2))\n",
       "          )\n",
       "          (_bn1): BatchNorm2d(1632, eps=0.001, momentum=0.010000000000000009, affine=True, track_running_stats=True)\n",
       "          (_se_reduce): Conv2dStaticSamePadding(\n",
       "            1632, 68, kernel_size=(1, 1), stride=(1, 1)\n",
       "            (static_padding): Identity()\n",
       "          )\n",
       "          (_se_expand): Conv2dStaticSamePadding(\n",
       "            68, 1632, kernel_size=(1, 1), stride=(1, 1)\n",
       "            (static_padding): Identity()\n",
       "          )\n",
       "          (_project_conv): Conv2dStaticSamePadding(\n",
       "            1632, 272, kernel_size=(1, 1), stride=(1, 1), bias=False\n",
       "            (static_padding): Identity()\n",
       "          )\n",
       "          (_bn2): BatchNorm2d(272, eps=0.001, momentum=0.010000000000000009, affine=True, track_running_stats=True)\n",
       "          (_swish): MemoryEfficientSwish()\n",
       "        )\n",
       "        (24): MBConvBlock(\n",
       "          (_expand_conv): Conv2dStaticSamePadding(\n",
       "            272, 1632, kernel_size=(1, 1), stride=(1, 1), bias=False\n",
       "            (static_padding): Identity()\n",
       "          )\n",
       "          (_bn0): BatchNorm2d(1632, eps=0.001, momentum=0.010000000000000009, affine=True, track_running_stats=True)\n",
       "          (_depthwise_conv): Conv2dStaticSamePadding(\n",
       "            1632, 1632, kernel_size=(5, 5), stride=(1, 1), groups=1632, bias=False\n",
       "            (static_padding): ZeroPad2d((2, 2, 2, 2))\n",
       "          )\n",
       "          (_bn1): BatchNorm2d(1632, eps=0.001, momentum=0.010000000000000009, affine=True, track_running_stats=True)\n",
       "          (_se_reduce): Conv2dStaticSamePadding(\n",
       "            1632, 68, kernel_size=(1, 1), stride=(1, 1)\n",
       "            (static_padding): Identity()\n",
       "          )\n",
       "          (_se_expand): Conv2dStaticSamePadding(\n",
       "            68, 1632, kernel_size=(1, 1), stride=(1, 1)\n",
       "            (static_padding): Identity()\n",
       "          )\n",
       "          (_project_conv): Conv2dStaticSamePadding(\n",
       "            1632, 272, kernel_size=(1, 1), stride=(1, 1), bias=False\n",
       "            (static_padding): Identity()\n",
       "          )\n",
       "          (_bn2): BatchNorm2d(272, eps=0.001, momentum=0.010000000000000009, affine=True, track_running_stats=True)\n",
       "          (_swish): MemoryEfficientSwish()\n",
       "        )\n",
       "        (25): MBConvBlock(\n",
       "          (_expand_conv): Conv2dStaticSamePadding(\n",
       "            272, 1632, kernel_size=(1, 1), stride=(1, 1), bias=False\n",
       "            (static_padding): Identity()\n",
       "          )\n",
       "          (_bn0): BatchNorm2d(1632, eps=0.001, momentum=0.010000000000000009, affine=True, track_running_stats=True)\n",
       "          (_depthwise_conv): Conv2dStaticSamePadding(\n",
       "            1632, 1632, kernel_size=(5, 5), stride=(1, 1), groups=1632, bias=False\n",
       "            (static_padding): ZeroPad2d((2, 2, 2, 2))\n",
       "          )\n",
       "          (_bn1): BatchNorm2d(1632, eps=0.001, momentum=0.010000000000000009, affine=True, track_running_stats=True)\n",
       "          (_se_reduce): Conv2dStaticSamePadding(\n",
       "            1632, 68, kernel_size=(1, 1), stride=(1, 1)\n",
       "            (static_padding): Identity()\n",
       "          )\n",
       "          (_se_expand): Conv2dStaticSamePadding(\n",
       "            68, 1632, kernel_size=(1, 1), stride=(1, 1)\n",
       "            (static_padding): Identity()\n",
       "          )\n",
       "          (_project_conv): Conv2dStaticSamePadding(\n",
       "            1632, 272, kernel_size=(1, 1), stride=(1, 1), bias=False\n",
       "            (static_padding): Identity()\n",
       "          )\n",
       "          (_bn2): BatchNorm2d(272, eps=0.001, momentum=0.010000000000000009, affine=True, track_running_stats=True)\n",
       "          (_swish): MemoryEfficientSwish()\n",
       "        )\n",
       "        (26): MBConvBlock(\n",
       "          (_expand_conv): Conv2dStaticSamePadding(\n",
       "            272, 1632, kernel_size=(1, 1), stride=(1, 1), bias=False\n",
       "            (static_padding): Identity()\n",
       "          )\n",
       "          (_bn0): BatchNorm2d(1632, eps=0.001, momentum=0.010000000000000009, affine=True, track_running_stats=True)\n",
       "          (_depthwise_conv): Conv2dStaticSamePadding(\n",
       "            1632, 1632, kernel_size=(5, 5), stride=(1, 1), groups=1632, bias=False\n",
       "            (static_padding): ZeroPad2d((2, 2, 2, 2))\n",
       "          )\n",
       "          (_bn1): BatchNorm2d(1632, eps=0.001, momentum=0.010000000000000009, affine=True, track_running_stats=True)\n",
       "          (_se_reduce): Conv2dStaticSamePadding(\n",
       "            1632, 68, kernel_size=(1, 1), stride=(1, 1)\n",
       "            (static_padding): Identity()\n",
       "          )\n",
       "          (_se_expand): Conv2dStaticSamePadding(\n",
       "            68, 1632, kernel_size=(1, 1), stride=(1, 1)\n",
       "            (static_padding): Identity()\n",
       "          )\n",
       "          (_project_conv): Conv2dStaticSamePadding(\n",
       "            1632, 272, kernel_size=(1, 1), stride=(1, 1), bias=False\n",
       "            (static_padding): Identity()\n",
       "          )\n",
       "          (_bn2): BatchNorm2d(272, eps=0.001, momentum=0.010000000000000009, affine=True, track_running_stats=True)\n",
       "          (_swish): MemoryEfficientSwish()\n",
       "        )\n",
       "        (27): MBConvBlock(\n",
       "          (_expand_conv): Conv2dStaticSamePadding(\n",
       "            272, 1632, kernel_size=(1, 1), stride=(1, 1), bias=False\n",
       "            (static_padding): Identity()\n",
       "          )\n",
       "          (_bn0): BatchNorm2d(1632, eps=0.001, momentum=0.010000000000000009, affine=True, track_running_stats=True)\n",
       "          (_depthwise_conv): Conv2dStaticSamePadding(\n",
       "            1632, 1632, kernel_size=(5, 5), stride=(1, 1), groups=1632, bias=False\n",
       "            (static_padding): ZeroPad2d((2, 2, 2, 2))\n",
       "          )\n",
       "          (_bn1): BatchNorm2d(1632, eps=0.001, momentum=0.010000000000000009, affine=True, track_running_stats=True)\n",
       "          (_se_reduce): Conv2dStaticSamePadding(\n",
       "            1632, 68, kernel_size=(1, 1), stride=(1, 1)\n",
       "            (static_padding): Identity()\n",
       "          )\n",
       "          (_se_expand): Conv2dStaticSamePadding(\n",
       "            68, 1632, kernel_size=(1, 1), stride=(1, 1)\n",
       "            (static_padding): Identity()\n",
       "          )\n",
       "          (_project_conv): Conv2dStaticSamePadding(\n",
       "            1632, 272, kernel_size=(1, 1), stride=(1, 1), bias=False\n",
       "            (static_padding): Identity()\n",
       "          )\n",
       "          (_bn2): BatchNorm2d(272, eps=0.001, momentum=0.010000000000000009, affine=True, track_running_stats=True)\n",
       "          (_swish): MemoryEfficientSwish()\n",
       "        )\n",
       "        (28): MBConvBlock(\n",
       "          (_expand_conv): Conv2dStaticSamePadding(\n",
       "            272, 1632, kernel_size=(1, 1), stride=(1, 1), bias=False\n",
       "            (static_padding): Identity()\n",
       "          )\n",
       "          (_bn0): BatchNorm2d(1632, eps=0.001, momentum=0.010000000000000009, affine=True, track_running_stats=True)\n",
       "          (_depthwise_conv): Conv2dStaticSamePadding(\n",
       "            1632, 1632, kernel_size=(5, 5), stride=(1, 1), groups=1632, bias=False\n",
       "            (static_padding): ZeroPad2d((2, 2, 2, 2))\n",
       "          )\n",
       "          (_bn1): BatchNorm2d(1632, eps=0.001, momentum=0.010000000000000009, affine=True, track_running_stats=True)\n",
       "          (_se_reduce): Conv2dStaticSamePadding(\n",
       "            1632, 68, kernel_size=(1, 1), stride=(1, 1)\n",
       "            (static_padding): Identity()\n",
       "          )\n",
       "          (_se_expand): Conv2dStaticSamePadding(\n",
       "            68, 1632, kernel_size=(1, 1), stride=(1, 1)\n",
       "            (static_padding): Identity()\n",
       "          )\n",
       "          (_project_conv): Conv2dStaticSamePadding(\n",
       "            1632, 272, kernel_size=(1, 1), stride=(1, 1), bias=False\n",
       "            (static_padding): Identity()\n",
       "          )\n",
       "          (_bn2): BatchNorm2d(272, eps=0.001, momentum=0.010000000000000009, affine=True, track_running_stats=True)\n",
       "          (_swish): MemoryEfficientSwish()\n",
       "        )\n",
       "        (29): MBConvBlock(\n",
       "          (_expand_conv): Conv2dStaticSamePadding(\n",
       "            272, 1632, kernel_size=(1, 1), stride=(1, 1), bias=False\n",
       "            (static_padding): Identity()\n",
       "          )\n",
       "          (_bn0): BatchNorm2d(1632, eps=0.001, momentum=0.010000000000000009, affine=True, track_running_stats=True)\n",
       "          (_depthwise_conv): Conv2dStaticSamePadding(\n",
       "            1632, 1632, kernel_size=(5, 5), stride=(1, 1), groups=1632, bias=False\n",
       "            (static_padding): ZeroPad2d((2, 2, 2, 2))\n",
       "          )\n",
       "          (_bn1): BatchNorm2d(1632, eps=0.001, momentum=0.010000000000000009, affine=True, track_running_stats=True)\n",
       "          (_se_reduce): Conv2dStaticSamePadding(\n",
       "            1632, 68, kernel_size=(1, 1), stride=(1, 1)\n",
       "            (static_padding): Identity()\n",
       "          )\n",
       "          (_se_expand): Conv2dStaticSamePadding(\n",
       "            68, 1632, kernel_size=(1, 1), stride=(1, 1)\n",
       "            (static_padding): Identity()\n",
       "          )\n",
       "          (_project_conv): Conv2dStaticSamePadding(\n",
       "            1632, 272, kernel_size=(1, 1), stride=(1, 1), bias=False\n",
       "            (static_padding): Identity()\n",
       "          )\n",
       "          (_bn2): BatchNorm2d(272, eps=0.001, momentum=0.010000000000000009, affine=True, track_running_stats=True)\n",
       "          (_swish): MemoryEfficientSwish()\n",
       "        )\n",
       "        (30): MBConvBlock(\n",
       "          (_expand_conv): Conv2dStaticSamePadding(\n",
       "            272, 1632, kernel_size=(1, 1), stride=(1, 1), bias=False\n",
       "            (static_padding): Identity()\n",
       "          )\n",
       "          (_bn0): BatchNorm2d(1632, eps=0.001, momentum=0.010000000000000009, affine=True, track_running_stats=True)\n",
       "          (_depthwise_conv): Conv2dStaticSamePadding(\n",
       "            1632, 1632, kernel_size=(3, 3), stride=[1, 1], groups=1632, bias=False\n",
       "            (static_padding): ZeroPad2d((1, 1, 1, 1))\n",
       "          )\n",
       "          (_bn1): BatchNorm2d(1632, eps=0.001, momentum=0.010000000000000009, affine=True, track_running_stats=True)\n",
       "          (_se_reduce): Conv2dStaticSamePadding(\n",
       "            1632, 68, kernel_size=(1, 1), stride=(1, 1)\n",
       "            (static_padding): Identity()\n",
       "          )\n",
       "          (_se_expand): Conv2dStaticSamePadding(\n",
       "            68, 1632, kernel_size=(1, 1), stride=(1, 1)\n",
       "            (static_padding): Identity()\n",
       "          )\n",
       "          (_project_conv): Conv2dStaticSamePadding(\n",
       "            1632, 448, kernel_size=(1, 1), stride=(1, 1), bias=False\n",
       "            (static_padding): Identity()\n",
       "          )\n",
       "          (_bn2): BatchNorm2d(448, eps=0.001, momentum=0.010000000000000009, affine=True, track_running_stats=True)\n",
       "          (_swish): MemoryEfficientSwish()\n",
       "        )\n",
       "        (31): MBConvBlock(\n",
       "          (_expand_conv): Conv2dStaticSamePadding(\n",
       "            448, 2688, kernel_size=(1, 1), stride=(1, 1), bias=False\n",
       "            (static_padding): Identity()\n",
       "          )\n",
       "          (_bn0): BatchNorm2d(2688, eps=0.001, momentum=0.010000000000000009, affine=True, track_running_stats=True)\n",
       "          (_depthwise_conv): Conv2dStaticSamePadding(\n",
       "            2688, 2688, kernel_size=(3, 3), stride=(1, 1), groups=2688, bias=False\n",
       "            (static_padding): ZeroPad2d((1, 1, 1, 1))\n",
       "          )\n",
       "          (_bn1): BatchNorm2d(2688, eps=0.001, momentum=0.010000000000000009, affine=True, track_running_stats=True)\n",
       "          (_se_reduce): Conv2dStaticSamePadding(\n",
       "            2688, 112, kernel_size=(1, 1), stride=(1, 1)\n",
       "            (static_padding): Identity()\n",
       "          )\n",
       "          (_se_expand): Conv2dStaticSamePadding(\n",
       "            112, 2688, kernel_size=(1, 1), stride=(1, 1)\n",
       "            (static_padding): Identity()\n",
       "          )\n",
       "          (_project_conv): Conv2dStaticSamePadding(\n",
       "            2688, 448, kernel_size=(1, 1), stride=(1, 1), bias=False\n",
       "            (static_padding): Identity()\n",
       "          )\n",
       "          (_bn2): BatchNorm2d(448, eps=0.001, momentum=0.010000000000000009, affine=True, track_running_stats=True)\n",
       "          (_swish): MemoryEfficientSwish()\n",
       "        )\n",
       "      )\n",
       "      (_conv_head): Conv2dStaticSamePadding(\n",
       "        448, 1792, kernel_size=(1, 1), stride=(1, 1), bias=False\n",
       "        (static_padding): Identity()\n",
       "      )\n",
       "      (_bn1): BatchNorm2d(1792, eps=0.001, momentum=0.010000000000000009, affine=True, track_running_stats=True)\n",
       "      (_avg_pooling): AdaptiveAvgPool2d(output_size=1)\n",
       "      (_dropout): Dropout(p=0.4, inplace=False)\n",
       "      (_fc): Sequential(\n",
       "        (0): Linear(in_features=1792, out_features=256, bias=True)\n",
       "        (1): ReLU()\n",
       "        (2): Dropout(p=0.5, inplace=False)\n",
       "        (3): Linear(in_features=256, out_features=120, bias=True)\n",
       "        (4): LogSoftmax(dim=1)\n",
       "      )\n",
       "      (_swish): MemoryEfficientSwish()\n",
       "    )\n",
       "  )\n",
       ")"
      ]
     },
     "execution_count": 13,
     "metadata": {},
     "output_type": "execute_result"
    }
   ],
   "source": [
    "model = PretrainedEfficientNet_V2()\n",
    "model"
   ]
  },
  {
   "cell_type": "code",
   "execution_count": 14,
   "metadata": {},
   "outputs": [],
   "source": [
    "def to_device(data, device):\n",
    "    if isinstance(data, (list, tuple)):\n",
    "        return [to_device(d, device) for d in data]\n",
    "    else:\n",
    "        return data.to(device, non_blocking=True)\n",
    "\n",
    "    \n",
    "class DeviceDataLoader:\n",
    "    def __init__(self, dl, device):\n",
    "        self.dl = dl\n",
    "        self.device = device\n",
    "    \n",
    "    def __len__(self):\n",
    "        return len(self.dl)\n",
    "    \n",
    "    def __iter__(self):\n",
    "        for batch in self.dl:\n",
    "            yield to_device(batch, self.device)"
   ]
  },
  {
   "cell_type": "code",
   "execution_count": 15,
   "metadata": {},
   "outputs": [
    {
     "name": "stdout",
     "output_type": "stream",
     "text": [
      "cuda\n"
     ]
    }
   ],
   "source": [
    "# getting default device\n",
    "device = torch.device('cuda')\n",
    "print(device)\n",
    "\n",
    "# moving train dataloader and val dataloader to gpu\n",
    "train_dl = DeviceDataLoader(train_loader, device)\n",
    "val_dl = DeviceDataLoader(val_loader, device)\n",
    "\n",
    "\n",
    "# moving model to gpu\n",
    "to_device(model, device);"
   ]
  },
  {
   "cell_type": "code",
   "execution_count": 16,
   "metadata": {
    "scrolled": true
   },
   "outputs": [],
   "source": [
    "def get_lr(optimizer):\n",
    "    for param_group in optimizer.param_groups:\n",
    "        return param_group['lr']\n",
    "        \n",
    "\n",
    "def fit_one_cycle(epochs, max_lr, model, train_loader, val_loader, weight_decay=0, grad_clip=None, opt_func = torch.optim.Adam):\n",
    "    torch.cuda.empty_cache()\n",
    "    history = []\n",
    "    optimizer = opt_func(model.parameters(), max_lr, weight_decay=weight_decay)\n",
    "    # set up one cycle lr scheduler\n",
    "    #초기 learing rate에서 1cycle annealing하는 scheduler이다. 1주기 전략은 \n",
    "    #초기 learning rate에서 최대 learning rate까지 올라간 후 초기 learning rate보다 훨씬 낮은 learning rate로 annealing한다. \n",
    "    sched = torch.optim.lr_scheduler.OneCycleLR(optimizer, max_lr, epochs=epochs, steps_per_epoch=len(train_loader))\n",
    "    \n",
    "    for epoch in range(epochs):\n",
    "        \n",
    "        # Training phase\n",
    "        model.train()       \n",
    "        train_losses = []\n",
    "        lrs = []\n",
    "        for batch in tqdm(train_loader):\n",
    "            loss = model.training_step(batch)\n",
    "            train_losses.append(loss)\n",
    "            \n",
    "            # calculates gradients\n",
    "            loss.backward()\n",
    "            \n",
    "            # check gradient clipping \n",
    "            if grad_clip:\n",
    "                nn.utils.clip_grad_value_(model.parameters(), grad_clip)\n",
    "                \n",
    "            # perform gradient descent and modifies the weights\n",
    "            optimizer.step()\n",
    "            \n",
    "            # reset the gradients\n",
    "            optimizer.zero_grad()\n",
    "            \n",
    "            # record and update lr\n",
    "            lrs.append(get_lr(optimizer))\n",
    "            \n",
    "            # modifies the lr value\n",
    "            sched.step()\n",
    "            \n",
    "        # Validation phase\n",
    "        result = evaluate(model, val_loader)\n",
    "        result['train_loss'] = torch.stack(train_losses).mean().item()\n",
    "        result['lrs'] = lrs\n",
    "        model.epoch_end(epoch, result)\n",
    "        history.append(result)\n",
    "        \n",
    "        \n",
    "    return history\n",
    "        \n",
    "    \n",
    "\n",
    "@torch.no_grad()\n",
    "def evaluate(model, val_loader):\n",
    "    model.eval()\n",
    "    outputs = [model.validation_step(batch) for batch in val_loader]\n",
    "    return model.validation_epoch_end(outputs)"
   ]
  },
  {
   "cell_type": "code",
   "execution_count": 17,
   "metadata": {},
   "outputs": [
    {
     "data": {
      "text/plain": [
       "{'val_loss': 4.785293102264404, 'val_acc': 0.006119791883975267}"
      ]
     },
     "execution_count": 17,
     "metadata": {},
     "output_type": "execute_result"
    }
   ],
   "source": [
    "evaluate(model, val_dl) "
   ]
  },
  {
   "cell_type": "code",
   "execution_count": 18,
   "metadata": {},
   "outputs": [],
   "source": [
    "opt_func = torch.optim.SGD\n",
    "num_epoch = 30\n",
    "max_lr = 0.01\n",
    "grad_clip = 0.1\n",
    "weight_decay = 1e-4"
   ]
  },
  {
   "cell_type": "code",
   "execution_count": 19,
   "metadata": {},
   "outputs": [
    {
     "name": "stderr",
     "output_type": "stream",
     "text": [
      "100%|██████████| 75/75 [00:59<00:00,  1.26it/s]\n"
     ]
    },
    {
     "name": "stdout",
     "output_type": "stream",
     "text": [
      "Epoch [0] : train_loss: 4.7888, val_loss: 4.7784, val_acc: 0.0074\n"
     ]
    },
    {
     "name": "stderr",
     "output_type": "stream",
     "text": [
      "100%|██████████| 75/75 [00:55<00:00,  1.36it/s]\n"
     ]
    },
    {
     "name": "stdout",
     "output_type": "stream",
     "text": [
      "Epoch [1] : train_loss: 4.7782, val_loss: 4.7607, val_acc: 0.0180\n"
     ]
    },
    {
     "name": "stderr",
     "output_type": "stream",
     "text": [
      "100%|██████████| 75/75 [00:55<00:00,  1.36it/s]\n"
     ]
    },
    {
     "name": "stdout",
     "output_type": "stream",
     "text": [
      "Epoch [2] : train_loss: 4.7527, val_loss: 4.7265, val_acc: 0.0733\n"
     ]
    },
    {
     "name": "stderr",
     "output_type": "stream",
     "text": [
      "100%|██████████| 75/75 [00:54<00:00,  1.37it/s]\n"
     ]
    },
    {
     "name": "stdout",
     "output_type": "stream",
     "text": [
      "Epoch [3] : train_loss: 4.6997, val_loss: 4.6580, val_acc: 0.2608\n"
     ]
    },
    {
     "name": "stderr",
     "output_type": "stream",
     "text": [
      "100%|██████████| 75/75 [00:54<00:00,  1.39it/s]\n"
     ]
    },
    {
     "name": "stdout",
     "output_type": "stream",
     "text": [
      "Epoch [4] : train_loss: 4.5822, val_loss: 4.4775, val_acc: 0.4983\n"
     ]
    },
    {
     "name": "stderr",
     "output_type": "stream",
     "text": [
      "100%|██████████| 75/75 [00:54<00:00,  1.38it/s]\n"
     ]
    },
    {
     "name": "stdout",
     "output_type": "stream",
     "text": [
      "Epoch [5] : train_loss: 4.2391, val_loss: 3.7519, val_acc: 0.5560\n"
     ]
    },
    {
     "name": "stderr",
     "output_type": "stream",
     "text": [
      "100%|██████████| 75/75 [00:55<00:00,  1.35it/s]\n"
     ]
    },
    {
     "name": "stdout",
     "output_type": "stream",
     "text": [
      "Epoch [6] : train_loss: 3.3669, val_loss: 2.4584, val_acc: 0.6414\n"
     ]
    },
    {
     "name": "stderr",
     "output_type": "stream",
     "text": [
      "100%|██████████| 75/75 [00:55<00:00,  1.36it/s]\n"
     ]
    },
    {
     "name": "stdout",
     "output_type": "stream",
     "text": [
      "Epoch [7] : train_loss: 2.3261, val_loss: 1.5669, val_acc: 0.7667\n"
     ]
    },
    {
     "name": "stderr",
     "output_type": "stream",
     "text": [
      "100%|██████████| 75/75 [00:56<00:00,  1.33it/s]\n"
     ]
    },
    {
     "name": "stdout",
     "output_type": "stream",
     "text": [
      "Epoch [8] : train_loss: 1.6512, val_loss: 1.0954, val_acc: 0.8039\n"
     ]
    },
    {
     "name": "stderr",
     "output_type": "stream",
     "text": [
      "100%|██████████| 75/75 [00:56<00:00,  1.33it/s]\n"
     ]
    },
    {
     "name": "stdout",
     "output_type": "stream",
     "text": [
      "Epoch [9] : train_loss: 1.3030, val_loss: 0.8508, val_acc: 0.8283\n"
     ]
    },
    {
     "name": "stderr",
     "output_type": "stream",
     "text": [
      "100%|██████████| 75/75 [00:54<00:00,  1.39it/s]\n"
     ]
    },
    {
     "name": "stdout",
     "output_type": "stream",
     "text": [
      "Epoch [10] : train_loss: 1.0812, val_loss: 0.6797, val_acc: 0.8413\n"
     ]
    },
    {
     "name": "stderr",
     "output_type": "stream",
     "text": [
      "100%|██████████| 75/75 [00:55<00:00,  1.34it/s]\n"
     ]
    },
    {
     "name": "stdout",
     "output_type": "stream",
     "text": [
      "Epoch [11] : train_loss: 0.9388, val_loss: 0.5920, val_acc: 0.8462\n"
     ]
    },
    {
     "name": "stderr",
     "output_type": "stream",
     "text": [
      "100%|██████████| 75/75 [00:54<00:00,  1.36it/s]\n"
     ]
    },
    {
     "name": "stdout",
     "output_type": "stream",
     "text": [
      "Epoch [12] : train_loss: 0.8410, val_loss: 0.5225, val_acc: 0.8596\n"
     ]
    },
    {
     "name": "stderr",
     "output_type": "stream",
     "text": [
      "100%|██████████| 75/75 [00:54<00:00,  1.37it/s]\n"
     ]
    },
    {
     "name": "stdout",
     "output_type": "stream",
     "text": [
      "Epoch [13] : train_loss: 0.7620, val_loss: 0.4816, val_acc: 0.8576\n"
     ]
    },
    {
     "name": "stderr",
     "output_type": "stream",
     "text": [
      "100%|██████████| 75/75 [00:55<00:00,  1.36it/s]\n"
     ]
    },
    {
     "name": "stdout",
     "output_type": "stream",
     "text": [
      "Epoch [14] : train_loss: 0.6918, val_loss: 0.4399, val_acc: 0.8690\n"
     ]
    },
    {
     "name": "stderr",
     "output_type": "stream",
     "text": [
      "100%|██████████| 75/75 [00:54<00:00,  1.37it/s]\n"
     ]
    },
    {
     "name": "stdout",
     "output_type": "stream",
     "text": [
      "Epoch [15] : train_loss: 0.6370, val_loss: 0.4156, val_acc: 0.8732\n"
     ]
    },
    {
     "name": "stderr",
     "output_type": "stream",
     "text": [
      "100%|██████████| 75/75 [00:55<00:00,  1.36it/s]\n"
     ]
    },
    {
     "name": "stdout",
     "output_type": "stream",
     "text": [
      "Epoch [16] : train_loss: 0.5895, val_loss: 0.4020, val_acc: 0.8796\n"
     ]
    },
    {
     "name": "stderr",
     "output_type": "stream",
     "text": [
      "100%|██████████| 75/75 [00:55<00:00,  1.35it/s]\n"
     ]
    },
    {
     "name": "stdout",
     "output_type": "stream",
     "text": [
      "Epoch [17] : train_loss: 0.5590, val_loss: 0.3908, val_acc: 0.8822\n"
     ]
    },
    {
     "name": "stderr",
     "output_type": "stream",
     "text": [
      "100%|██████████| 75/75 [00:56<00:00,  1.34it/s]\n"
     ]
    },
    {
     "name": "stdout",
     "output_type": "stream",
     "text": [
      "Epoch [18] : train_loss: 0.5165, val_loss: 0.3866, val_acc: 0.8780\n"
     ]
    },
    {
     "name": "stderr",
     "output_type": "stream",
     "text": [
      "100%|██████████| 75/75 [00:55<00:00,  1.34it/s]\n"
     ]
    },
    {
     "name": "stdout",
     "output_type": "stream",
     "text": [
      "Epoch [19] : train_loss: 0.4820, val_loss: 0.3748, val_acc: 0.8846\n"
     ]
    },
    {
     "name": "stderr",
     "output_type": "stream",
     "text": [
      "100%|██████████| 75/75 [00:55<00:00,  1.36it/s]\n"
     ]
    },
    {
     "name": "stdout",
     "output_type": "stream",
     "text": [
      "Epoch [20] : train_loss: 0.4509, val_loss: 0.3754, val_acc: 0.8841\n"
     ]
    },
    {
     "name": "stderr",
     "output_type": "stream",
     "text": [
      "100%|██████████| 75/75 [00:54<00:00,  1.37it/s]\n"
     ]
    },
    {
     "name": "stdout",
     "output_type": "stream",
     "text": [
      "Epoch [21] : train_loss: 0.4307, val_loss: 0.3599, val_acc: 0.8870\n"
     ]
    },
    {
     "name": "stderr",
     "output_type": "stream",
     "text": [
      "100%|██████████| 75/75 [00:55<00:00,  1.35it/s]\n"
     ]
    },
    {
     "name": "stdout",
     "output_type": "stream",
     "text": [
      "Epoch [22] : train_loss: 0.4101, val_loss: 0.3596, val_acc: 0.8885\n"
     ]
    },
    {
     "name": "stderr",
     "output_type": "stream",
     "text": [
      "100%|██████████| 75/75 [00:55<00:00,  1.35it/s]\n"
     ]
    },
    {
     "name": "stdout",
     "output_type": "stream",
     "text": [
      "Epoch [23] : train_loss: 0.4023, val_loss: 0.3558, val_acc: 0.8893\n"
     ]
    },
    {
     "name": "stderr",
     "output_type": "stream",
     "text": [
      "100%|██████████| 75/75 [00:55<00:00,  1.35it/s]\n"
     ]
    },
    {
     "name": "stdout",
     "output_type": "stream",
     "text": [
      "Epoch [24] : train_loss: 0.3881, val_loss: 0.3561, val_acc: 0.8915\n"
     ]
    },
    {
     "name": "stderr",
     "output_type": "stream",
     "text": [
      "100%|██████████| 75/75 [00:54<00:00,  1.37it/s]\n"
     ]
    },
    {
     "name": "stdout",
     "output_type": "stream",
     "text": [
      "Epoch [25] : train_loss: 0.3666, val_loss: 0.3562, val_acc: 0.8898\n"
     ]
    },
    {
     "name": "stderr",
     "output_type": "stream",
     "text": [
      "100%|██████████| 75/75 [00:54<00:00,  1.37it/s]\n"
     ]
    },
    {
     "name": "stdout",
     "output_type": "stream",
     "text": [
      "Epoch [26] : train_loss: 0.3726, val_loss: 0.3546, val_acc: 0.8932\n"
     ]
    },
    {
     "name": "stderr",
     "output_type": "stream",
     "text": [
      "100%|██████████| 75/75 [00:54<00:00,  1.39it/s]\n"
     ]
    },
    {
     "name": "stdout",
     "output_type": "stream",
     "text": [
      "Epoch [27] : train_loss: 0.3607, val_loss: 0.3522, val_acc: 0.8922\n"
     ]
    },
    {
     "name": "stderr",
     "output_type": "stream",
     "text": [
      "100%|██████████| 75/75 [00:55<00:00,  1.35it/s]\n"
     ]
    },
    {
     "name": "stdout",
     "output_type": "stream",
     "text": [
      "Epoch [28] : train_loss: 0.3532, val_loss: 0.3527, val_acc: 0.8930\n"
     ]
    },
    {
     "name": "stderr",
     "output_type": "stream",
     "text": [
      "100%|██████████| 75/75 [00:54<00:00,  1.37it/s]\n"
     ]
    },
    {
     "name": "stdout",
     "output_type": "stream",
     "text": [
      "Epoch [29] : train_loss: 0.3493, val_loss: 0.3528, val_acc: 0.8944\n"
     ]
    }
   ],
   "source": [
    "history = fit_one_cycle(num_epoch, max_lr, model, train_dl, val_dl, weight_decay, grad_clip, opt_func)"
   ]
  },
  {
   "cell_type": "code",
   "execution_count": 20,
   "metadata": {},
   "outputs": [
    {
     "name": "stderr",
     "output_type": "stream",
     "text": [
      "100%|██████████| 75/75 [00:55<00:00,  1.36it/s]\n"
     ]
    },
    {
     "name": "stdout",
     "output_type": "stream",
     "text": [
      "Epoch [0] : train_loss: 0.3471, val_loss: 0.3526, val_acc: 0.8922\n"
     ]
    },
    {
     "name": "stderr",
     "output_type": "stream",
     "text": [
      "100%|██████████| 75/75 [00:56<00:00,  1.34it/s]\n"
     ]
    },
    {
     "name": "stdout",
     "output_type": "stream",
     "text": [
      "Epoch [1] : train_loss: 0.3514, val_loss: 0.3529, val_acc: 0.8930\n"
     ]
    },
    {
     "name": "stderr",
     "output_type": "stream",
     "text": [
      "100%|██████████| 75/75 [00:55<00:00,  1.34it/s]\n"
     ]
    },
    {
     "name": "stdout",
     "output_type": "stream",
     "text": [
      "Epoch [2] : train_loss: 0.3501, val_loss: 0.3529, val_acc: 0.8939\n"
     ]
    },
    {
     "name": "stderr",
     "output_type": "stream",
     "text": [
      "100%|██████████| 75/75 [00:55<00:00,  1.36it/s]\n"
     ]
    },
    {
     "name": "stdout",
     "output_type": "stream",
     "text": [
      "Epoch [3] : train_loss: 0.3382, val_loss: 0.3537, val_acc: 0.8932\n"
     ]
    },
    {
     "name": "stderr",
     "output_type": "stream",
     "text": [
      "100%|██████████| 75/75 [00:55<00:00,  1.35it/s]\n"
     ]
    },
    {
     "name": "stdout",
     "output_type": "stream",
     "text": [
      "Epoch [4] : train_loss: 0.3429, val_loss: 0.3522, val_acc: 0.8944\n"
     ]
    }
   ],
   "source": [
    "num_epoch = 5\n",
    "max_lr = 0.001\n",
    "weight_decay = 1e-5\n",
    "\n",
    "history += fit_one_cycle(num_epoch, max_lr, model, train_dl, val_dl, weight_decay, grad_clip, opt_func)"
   ]
  },
  {
   "cell_type": "code",
   "execution_count": 21,
   "metadata": {},
   "outputs": [
    {
     "name": "stderr",
     "output_type": "stream",
     "text": [
      "100%|██████████| 75/75 [00:57<00:00,  1.31it/s]\n"
     ]
    },
    {
     "name": "stdout",
     "output_type": "stream",
     "text": [
      "Epoch [0] : train_loss: 0.3449, val_loss: 0.3599, val_acc: 0.8875\n"
     ]
    },
    {
     "name": "stderr",
     "output_type": "stream",
     "text": [
      "100%|██████████| 75/75 [00:55<00:00,  1.34it/s]\n"
     ]
    },
    {
     "name": "stdout",
     "output_type": "stream",
     "text": [
      "Epoch [1] : train_loss: 0.3569, val_loss: 0.3756, val_acc: 0.8840\n"
     ]
    },
    {
     "name": "stderr",
     "output_type": "stream",
     "text": [
      "100%|██████████| 75/75 [00:54<00:00,  1.38it/s]\n"
     ]
    },
    {
     "name": "stdout",
     "output_type": "stream",
     "text": [
      "Epoch [2] : train_loss: 0.3209, val_loss: 0.3631, val_acc: 0.8938\n"
     ]
    },
    {
     "name": "stderr",
     "output_type": "stream",
     "text": [
      "100%|██████████| 75/75 [00:54<00:00,  1.38it/s]\n"
     ]
    },
    {
     "name": "stdout",
     "output_type": "stream",
     "text": [
      "Epoch [3] : train_loss: 0.3132, val_loss: 0.3556, val_acc: 0.8915\n"
     ]
    },
    {
     "name": "stderr",
     "output_type": "stream",
     "text": [
      "100%|██████████| 75/75 [00:54<00:00,  1.37it/s]\n"
     ]
    },
    {
     "name": "stdout",
     "output_type": "stream",
     "text": [
      "Epoch [4] : train_loss: 0.2962, val_loss: 0.3583, val_acc: 0.8915\n"
     ]
    }
   ],
   "source": [
    "num_epoch = 5\n",
    "max_lr = 0.01\n",
    "\n",
    "history += fit_one_cycle(num_epoch, max_lr, model, train_dl, val_dl, weight_decay, grad_clip, opt_func)"
   ]
  },
  {
   "cell_type": "code",
   "execution_count": 22,
   "metadata": {},
   "outputs": [
    {
     "name": "stderr",
     "output_type": "stream",
     "text": [
      "100%|██████████| 75/75 [00:55<00:00,  1.34it/s]\n"
     ]
    },
    {
     "name": "stdout",
     "output_type": "stream",
     "text": [
      "Epoch [0] : train_loss: 0.2926, val_loss: 0.3574, val_acc: 0.8949\n"
     ]
    },
    {
     "name": "stderr",
     "output_type": "stream",
     "text": [
      "100%|██████████| 75/75 [00:55<00:00,  1.36it/s]\n"
     ]
    },
    {
     "name": "stdout",
     "output_type": "stream",
     "text": [
      "Epoch [1] : train_loss: 0.2905, val_loss: 0.3620, val_acc: 0.8872\n"
     ]
    },
    {
     "name": "stderr",
     "output_type": "stream",
     "text": [
      "100%|██████████| 75/75 [00:54<00:00,  1.37it/s]\n"
     ]
    },
    {
     "name": "stdout",
     "output_type": "stream",
     "text": [
      "Epoch [2] : train_loss: 0.2831, val_loss: 0.3690, val_acc: 0.8901\n"
     ]
    },
    {
     "name": "stderr",
     "output_type": "stream",
     "text": [
      "100%|██████████| 75/75 [00:55<00:00,  1.34it/s]\n"
     ]
    },
    {
     "name": "stdout",
     "output_type": "stream",
     "text": [
      "Epoch [3] : train_loss: 0.2661, val_loss: 0.3621, val_acc: 0.8913\n"
     ]
    },
    {
     "name": "stderr",
     "output_type": "stream",
     "text": [
      "100%|██████████| 75/75 [00:56<00:00,  1.32it/s]\n"
     ]
    },
    {
     "name": "stdout",
     "output_type": "stream",
     "text": [
      "Epoch [4] : train_loss: 0.2465, val_loss: 0.3649, val_acc: 0.8913\n"
     ]
    }
   ],
   "source": [
    "num_epoch = 5\n",
    "max_lr = 0.01\n",
    "\n",
    "history += fit_one_cycle(num_epoch, max_lr, model, train_dl, val_dl, weight_decay, grad_clip, opt_func)"
   ]
  },
  {
   "cell_type": "code",
   "execution_count": 23,
   "metadata": {},
   "outputs": [],
   "source": [
    "val_loss = []\n",
    "train_loss = []\n",
    "val_acc = []\n",
    "time = list(range(len(history)))\n",
    "for h in history:\n",
    "    val_loss.append(h['val_loss'])\n",
    "    train_loss.append(h['train_loss'])\n",
    "    val_acc.append(h['val_acc'])"
   ]
  },
  {
   "cell_type": "code",
   "execution_count": 24,
   "metadata": {},
   "outputs": [
    {
     "data": {
      "image/png": "[encoded data removed]",
      "text/plain": [
       "<Figure size 432x288 with 1 Axes>"
      ]
     },
     "metadata": {
      "needs_background": "light"
     },
     "output_type": "display_data"
    }
   ],
   "source": [
    "plt.plot(time, val_loss, c='red', label='val_loss', marker='x')\n",
    "plt.plot(time, train_loss, c='blue', label='train_loss', marker='x')\n",
    "plt.xlabel('epochs')\n",
    "plt.ylabel('loss')\n",
    "plt.show()"
   ]
  },
  {
   "cell_type": "code",
   "execution_count": 25,
   "metadata": {},
   "outputs": [
    {
     "data": {
      "image/png": "[encoded data removed]",
      "text/plain": [
       "<Figure size 432x288 with 1 Axes>"
      ]
     },
     "metadata": {
      "needs_background": "light"
     },
     "output_type": "display_data"
    }
   ],
   "source": [
    "plt.plot(time, val_acc, c='red', label='accuracy', marker='x')\n",
    "plt.xlabel('epochs')\n",
    "plt.ylabel('accuracy')\n",
    "plt.show()"
   ]
  },
  {
   "cell_type": "code",
   "execution_count": 26,
   "metadata": {},
   "outputs": [
    {
     "data": {
      "image/png": "[encoded data removed]",
      "text/plain": [
       "<Figure size 432x288 with 1 Axes>"
      ]
     },
     "metadata": {
      "needs_background": "light"
     },
     "output_type": "display_data"
    }
   ],
   "source": [
    "lrs = np.concatenate([x.get('lrs', []) for x in history])\n",
    "plt.xlabel('epochs')\n",
    "plt.ylabel('lr')\n",
    "plt.plot(lrs)\n",
    "plt.show()"
   ]
  },
  {
   "cell_type": "code",
   "execution_count": 27,
   "metadata": {},
   "outputs": [],
   "source": [
    "def predict_single(img, label):\n",
    "    xb = img.unsqueeze(0) # adding extra dimension\n",
    "    xb = to_device(xb, device)\n",
    "    preds = model(xb)                   # change model object here\n",
    "    predictions = preds[0]\n",
    "    \n",
    "    max_val, kls = torch.max(predictions, dim=0)\n",
    "    print('Actual :', breeds[label], ' | Predicted :', breeds[kls])\n",
    "    plt.imshow(img.permute(1,2,0))\n",
    "    plt.show()"
   ]
  },
  {
   "cell_type": "code",
   "execution_count": 28,
   "metadata": {},
   "outputs": [],
   "source": [
    "breeds = []\n",
    "\n",
    "def rename(name):\n",
    "    return ' '.join(' '.join(name.split('-')[1:]).split('_'))\n",
    "\n",
    "for n in train_set.classes:\n",
    "    breeds.append(rename(n))"
   ]
  },
  {
   "cell_type": "code",
   "execution_count": 29,
   "metadata": {},
   "outputs": [
    {
     "name": "stdout",
     "output_type": "stream",
     "text": [
      "Actual : American Staffordshire terrier  | Predicted : Weimaraner\n"
     ]
    },
    {
     "data": {
      "image/png": "[encoded data removed]",
      "text/plain": [
       "<Figure size 432x288 with 1 Axes>"
      ]
     },
     "metadata": {
      "needs_background": "light"
     },
     "output_type": "display_data"
    }
   ],
   "source": [
    "predict_single(*test_dataset[2427])"
   ]
  },
  {
   "cell_type": "code",
   "execution_count": 30,
   "metadata": {},
   "outputs": [],
   "source": [
    "test_dl = DeviceDataLoader(test_loader, device)"
   ]
  },
  {
   "cell_type": "code",
   "execution_count": 31,
   "metadata": {},
   "outputs": [
    {
     "data": {
      "text/plain": [
       "{'val_loss': 0.3334149718284607, 'val_acc': 0.897417426109314}"
      ]
     },
     "execution_count": 31,
     "metadata": {},
     "output_type": "execute_result"
    }
   ],
   "source": [
    "result = evaluate(model, test_dl)\n",
    "result"
   ]
  },
  {
   "cell_type": "code",
   "execution_count": 33,
   "metadata": {},
   "outputs": [],
   "source": [
    "torch.save(model, './models/dataloader-2_EfficV2_Acc90.pt')"
   ]
  },
  {
   "cell_type": "code",
   "execution_count": 34,
   "metadata": {},
   "outputs": [],
   "source": [
    "torch.save(model.state_dict(), './models/dataloader-2_EfficV2_Acc90.pt')"
   ]
  },
  {
   "cell_type": "code",
   "execution_count": null,
   "metadata": {},
   "outputs": [],
   "source": []
  }
 ],
 "metadata": {
  "kernelspec": {
   "display_name": "Python 3",
   "language": "python",
   "name": "python3"
  },
  "language_info": {
   "codemirror_mode": {
    "name": "ipython",
    "version": 3
   },
   "file_extension": ".py",
   "mimetype": "text/x-python",
   "name": "python",
   "nbconvert_exporter": "python",
   "pygments_lexer": "ipython3",
   "version": "3.7.4"
  }
 },
 "nbformat": 4,
 "nbformat_minor": 2
}
