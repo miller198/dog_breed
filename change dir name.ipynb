{
 "cells": [
  {
   "cell_type": "code",
   "execution_count": 1,
   "id": "a5169e8a",
   "metadata": {},
   "outputs": [],
   "source": [
    "import os\n",
    "\n",
    "# 폴더 경로\n",
    "folder_path1 = \"./stanford/images/train\"  # 폴더1 경로\n",
    "folder_path2 = \"./stanford/images/test\"  # 폴더2 경로\n",
    "\n",
    "# 폴더1과 폴더2의 폴더 이름 가져오기\n",
    "folder_names1 = sorted(os.listdir(folder_path1))\n",
    "folder_names2 = sorted(os.listdir(folder_path2))\n",
    "\n",
    "# print(folder_names1)\n",
    "# print(folder_names2)\n",
    "\n",
    "# 폴더 이름 바꾸기\n",
    "for i, folder_name2 in enumerate(folder_names2):\n",
    "    folder_path2_new = os.path.join(folder_path2, folder_names1[i])\n",
    "    os.rename(os.path.join(folder_path2, folder_name2), folder_path2_new)"
   ]
  },
  {
   "cell_type": "code",
   "execution_count": null,
   "id": "872c84a4",
   "metadata": {},
   "outputs": [],
   "source": []
  }
 ],
 "metadata": {
  "kernelspec": {
   "display_name": "Python 3 (ipykernel)",
   "language": "python",
   "name": "python3"
  },
  "language_info": {
   "codemirror_mode": {
    "name": "ipython",
    "version": 3
   },
   "file_extension": ".py",
   "mimetype": "text/x-python",
   "name": "python",
   "nbconvert_exporter": "python",
   "pygments_lexer": "ipython3",
   "version": "3.9.12"
  }
 },
 "nbformat": 4,
 "nbformat_minor": 5
}
